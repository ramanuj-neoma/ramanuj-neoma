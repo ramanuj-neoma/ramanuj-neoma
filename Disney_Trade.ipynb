{
  "nbformat": 4,
  "nbformat_minor": 0,
  "metadata": {
    "colab": {
      "name": "Disney-Trade.ipynb",
      "provenance": [],
      "collapsed_sections": [],
      "authorship_tag": "ABX9TyNXm/KxzvzzW58e1f8FTFtt",
      "include_colab_link": true
    },
    "kernelspec": {
      "name": "python3",
      "display_name": "Python 3"
    },
    "language_info": {
      "name": "python"
    }
  },
  "cells": [
    {
      "cell_type": "markdown",
      "metadata": {
        "id": "view-in-github",
        "colab_type": "text"
      },
      "source": [
        "<a href=\"https://colab.research.google.com/github/ramanuj-neoma/ramanuj-neoma/blob/main/Disney_Trade.ipynb\" target=\"_parent\"><img src=\"https://colab.research.google.com/assets/colab-badge.svg\" alt=\"Open In Colab\"/></a>"
      ]
    },
    {
      "cell_type": "code",
      "metadata": {
        "id": "eFPVa8HLwnlD"
      },
      "source": [
        "import numpy as np\n",
        "import pandas as pa\n",
        "import datetime as dt\n",
        "import matplotlib.pyplot as plt"
      ],
      "execution_count": 5,
      "outputs": []
    },
    {
      "cell_type": "code",
      "metadata": {
        "id": "NsnBXD91w0TZ"
      },
      "source": [
        "df = pa.read_excel(\"/content/sample_data/DIS_trades_full.xlsx\",sheet_name=\"DIS_trades_full\", \n",
        "                   header=0, index_col=None,\n",
        "                   dtype={'Name': str, 'Value' : float})"
      ],
      "execution_count": 7,
      "outputs": []
    },
    {
      "cell_type": "code",
      "metadata": {
        "id": "NlsRoI2uzPQS"
      },
      "source": [
        "theday = pa.Timestamp(year=1998, month=8, day=3, hour=00)\n",
        "k = df.values[:,1] == theday"
      ],
      "execution_count": 8,
      "outputs": []
    },
    {
      "cell_type": "code",
      "metadata": {
        "colab": {
          "base_uri": "https://localhost:8080/"
        },
        "id": "WEQ1yqO708ai",
        "outputId": "32433f07-a0d5-4205-b490-c682749e3fcd"
      },
      "source": [
        "print(df.values)"
      ],
      "execution_count": null,
      "outputs": [
        {
          "output_type": "stream",
          "name": "stdout",
          "text": [
            "[['UN' Timestamp('1998-08-03 00:00:00') datetime.time(9, 33, 42) ... 0\n",
            "  nan 'N']\n",
            " ['UN' Timestamp('1998-08-03 00:00:00') datetime.time(9, 33, 45) ... 0\n",
            "  nan 'T']\n",
            " ['UN' Timestamp('1998-08-03 00:00:00') datetime.time(9, 33, 45) ... 0\n",
            "  nan 'P']\n",
            " ...\n",
            " ['UN' Timestamp('1999-04-30 00:00:00') datetime.time(16, 2, 45) ... 0\n",
            "  nan 'N']\n",
            " ['UN' Timestamp('1999-04-30 00:00:00') datetime.time(16, 2, 50) ... 0\n",
            "  nan 'N']\n",
            " ['UN' Timestamp('1999-04-30 00:00:00') datetime.time(16, 32, 43) ... 0\n",
            "  'Z' 'T']]\n"
          ]
        }
      ]
    },
    {
      "cell_type": "code",
      "metadata": {
        "id": "tA3N2_ZMzZNn"
      },
      "source": [
        "tr_day = df.values[k,1]\n",
        "hms = df.values[k,2]\n",
        "prices = df.values[k,3] \n",
        "volumes = df.values[k,4]\n",
        "sexch = df.values[k,8]"
      ],
      "execution_count": 9,
      "outputs": []
    },
    {
      "cell_type": "code",
      "metadata": {
        "colab": {
          "base_uri": "https://localhost:8080/"
        },
        "id": "fjyxrj1n1OHi",
        "outputId": "4dd8b7a3-e3e5-4236-91fe-e2c10d2fbadd"
      },
      "source": [
        "print(tr_day)"
      ],
      "execution_count": null,
      "outputs": [
        {
          "output_type": "stream",
          "name": "stdout",
          "text": [
            "[Timestamp('1999-02-05 00:00:00') Timestamp('1999-02-05 00:00:00')\n",
            " Timestamp('1999-02-05 00:00:00') Timestamp('1999-02-05 00:00:00')\n",
            " Timestamp('1999-02-05 00:00:00') Timestamp('1999-02-05 00:00:00')\n",
            " Timestamp('1999-02-05 00:00:00') Timestamp('1999-02-05 00:00:00')\n",
            " Timestamp('1999-02-05 00:00:00') Timestamp('1999-02-05 00:00:00')\n",
            " Timestamp('1999-02-05 00:00:00') Timestamp('1999-02-05 00:00:00')\n",
            " Timestamp('1999-02-05 00:00:00') Timestamp('1999-02-05 00:00:00')\n",
            " Timestamp('1999-02-05 00:00:00') Timestamp('1999-02-05 00:00:00')\n",
            " Timestamp('1999-02-05 00:00:00') Timestamp('1999-02-05 00:00:00')\n",
            " Timestamp('1999-02-05 00:00:00') Timestamp('1999-02-05 00:00:00')\n",
            " Timestamp('1999-02-05 00:00:00') Timestamp('1999-02-05 00:00:00')\n",
            " Timestamp('1999-02-05 00:00:00') Timestamp('1999-02-05 00:00:00')\n",
            " Timestamp('1999-02-05 00:00:00') Timestamp('1999-02-05 00:00:00')\n",
            " Timestamp('1999-02-05 00:00:00') Timestamp('1999-02-05 00:00:00')\n",
            " Timestamp('1999-02-05 00:00:00') Timestamp('1999-02-05 00:00:00')\n",
            " Timestamp('1999-02-05 00:00:00') Timestamp('1999-02-05 00:00:00')\n",
            " Timestamp('1999-02-05 00:00:00') Timestamp('1999-02-05 00:00:00')\n",
            " Timestamp('1999-02-05 00:00:00') Timestamp('1999-02-05 00:00:00')\n",
            " Timestamp('1999-02-05 00:00:00') Timestamp('1999-02-05 00:00:00')\n",
            " Timestamp('1999-02-05 00:00:00') Timestamp('1999-02-05 00:00:00')\n",
            " Timestamp('1999-02-05 00:00:00') Timestamp('1999-02-05 00:00:00')\n",
            " Timestamp('1999-02-05 00:00:00') Timestamp('1999-02-05 00:00:00')\n",
            " Timestamp('1999-02-05 00:00:00') Timestamp('1999-02-05 00:00:00')\n",
            " Timestamp('1999-02-05 00:00:00') Timestamp('1999-02-05 00:00:00')\n",
            " Timestamp('1999-02-05 00:00:00') Timestamp('1999-02-05 00:00:00')\n",
            " Timestamp('1999-02-05 00:00:00') Timestamp('1999-02-05 00:00:00')\n",
            " Timestamp('1999-02-05 00:00:00') Timestamp('1999-02-05 00:00:00')\n",
            " Timestamp('1999-02-05 00:00:00') Timestamp('1999-02-05 00:00:00')\n",
            " Timestamp('1999-02-05 00:00:00') Timestamp('1999-02-05 00:00:00')\n",
            " Timestamp('1999-02-05 00:00:00') Timestamp('1999-02-05 00:00:00')\n",
            " Timestamp('1999-02-05 00:00:00') Timestamp('1999-02-05 00:00:00')\n",
            " Timestamp('1999-02-05 00:00:00') Timestamp('1999-02-05 00:00:00')\n",
            " Timestamp('1999-02-05 00:00:00') Timestamp('1999-02-05 00:00:00')\n",
            " Timestamp('1999-02-05 00:00:00') Timestamp('1999-02-05 00:00:00')\n",
            " Timestamp('1999-02-05 00:00:00') Timestamp('1999-02-05 00:00:00')\n",
            " Timestamp('1999-02-05 00:00:00') Timestamp('1999-02-05 00:00:00')\n",
            " Timestamp('1999-02-05 00:00:00') Timestamp('1999-02-05 00:00:00')\n",
            " Timestamp('1999-02-05 00:00:00') Timestamp('1999-02-05 00:00:00')\n",
            " Timestamp('1999-02-05 00:00:00') Timestamp('1999-02-05 00:00:00')\n",
            " Timestamp('1999-02-05 00:00:00') Timestamp('1999-02-05 00:00:00')\n",
            " Timestamp('1999-02-05 00:00:00') Timestamp('1999-02-05 00:00:00')\n",
            " Timestamp('1999-02-05 00:00:00') Timestamp('1999-02-05 00:00:00')\n",
            " Timestamp('1999-02-05 00:00:00') Timestamp('1999-02-05 00:00:00')\n",
            " Timestamp('1999-02-05 00:00:00') Timestamp('1999-02-05 00:00:00')\n",
            " Timestamp('1999-02-05 00:00:00') Timestamp('1999-02-05 00:00:00')\n",
            " Timestamp('1999-02-05 00:00:00') Timestamp('1999-02-05 00:00:00')\n",
            " Timestamp('1999-02-05 00:00:00') Timestamp('1999-02-05 00:00:00')\n",
            " Timestamp('1999-02-05 00:00:00') Timestamp('1999-02-05 00:00:00')\n",
            " Timestamp('1999-02-05 00:00:00') Timestamp('1999-02-05 00:00:00')\n",
            " Timestamp('1999-02-05 00:00:00') Timestamp('1999-02-05 00:00:00')\n",
            " Timestamp('1999-02-05 00:00:00') Timestamp('1999-02-05 00:00:00')\n",
            " Timestamp('1999-02-05 00:00:00') Timestamp('1999-02-05 00:00:00')\n",
            " Timestamp('1999-02-05 00:00:00') Timestamp('1999-02-05 00:00:00')\n",
            " Timestamp('1999-02-05 00:00:00') Timestamp('1999-02-05 00:00:00')\n",
            " Timestamp('1999-02-05 00:00:00') Timestamp('1999-02-05 00:00:00')\n",
            " Timestamp('1999-02-05 00:00:00') Timestamp('1999-02-05 00:00:00')\n",
            " Timestamp('1999-02-05 00:00:00') Timestamp('1999-02-05 00:00:00')\n",
            " Timestamp('1999-02-05 00:00:00') Timestamp('1999-02-05 00:00:00')\n",
            " Timestamp('1999-02-05 00:00:00') Timestamp('1999-02-05 00:00:00')\n",
            " Timestamp('1999-02-05 00:00:00') Timestamp('1999-02-05 00:00:00')\n",
            " Timestamp('1999-02-05 00:00:00') Timestamp('1999-02-05 00:00:00')\n",
            " Timestamp('1999-02-05 00:00:00') Timestamp('1999-02-05 00:00:00')\n",
            " Timestamp('1999-02-05 00:00:00') Timestamp('1999-02-05 00:00:00')\n",
            " Timestamp('1999-02-05 00:00:00') Timestamp('1999-02-05 00:00:00')\n",
            " Timestamp('1999-02-05 00:00:00') Timestamp('1999-02-05 00:00:00')\n",
            " Timestamp('1999-02-05 00:00:00') Timestamp('1999-02-05 00:00:00')\n",
            " Timestamp('1999-02-05 00:00:00') Timestamp('1999-02-05 00:00:00')\n",
            " Timestamp('1999-02-05 00:00:00') Timestamp('1999-02-05 00:00:00')\n",
            " Timestamp('1999-02-05 00:00:00') Timestamp('1999-02-05 00:00:00')\n",
            " Timestamp('1999-02-05 00:00:00') Timestamp('1999-02-05 00:00:00')\n",
            " Timestamp('1999-02-05 00:00:00') Timestamp('1999-02-05 00:00:00')\n",
            " Timestamp('1999-02-05 00:00:00') Timestamp('1999-02-05 00:00:00')\n",
            " Timestamp('1999-02-05 00:00:00') Timestamp('1999-02-05 00:00:00')\n",
            " Timestamp('1999-02-05 00:00:00') Timestamp('1999-02-05 00:00:00')\n",
            " Timestamp('1999-02-05 00:00:00') Timestamp('1999-02-05 00:00:00')\n",
            " Timestamp('1999-02-05 00:00:00') Timestamp('1999-02-05 00:00:00')\n",
            " Timestamp('1999-02-05 00:00:00') Timestamp('1999-02-05 00:00:00')\n",
            " Timestamp('1999-02-05 00:00:00') Timestamp('1999-02-05 00:00:00')\n",
            " Timestamp('1999-02-05 00:00:00') Timestamp('1999-02-05 00:00:00')\n",
            " Timestamp('1999-02-05 00:00:00') Timestamp('1999-02-05 00:00:00')\n",
            " Timestamp('1999-02-05 00:00:00') Timestamp('1999-02-05 00:00:00')\n",
            " Timestamp('1999-02-05 00:00:00') Timestamp('1999-02-05 00:00:00')\n",
            " Timestamp('1999-02-05 00:00:00') Timestamp('1999-02-05 00:00:00')\n",
            " Timestamp('1999-02-05 00:00:00') Timestamp('1999-02-05 00:00:00')\n",
            " Timestamp('1999-02-05 00:00:00') Timestamp('1999-02-05 00:00:00')\n",
            " Timestamp('1999-02-05 00:00:00') Timestamp('1999-02-05 00:00:00')\n",
            " Timestamp('1999-02-05 00:00:00') Timestamp('1999-02-05 00:00:00')\n",
            " Timestamp('1999-02-05 00:00:00') Timestamp('1999-02-05 00:00:00')\n",
            " Timestamp('1999-02-05 00:00:00') Timestamp('1999-02-05 00:00:00')\n",
            " Timestamp('1999-02-05 00:00:00') Timestamp('1999-02-05 00:00:00')\n",
            " Timestamp('1999-02-05 00:00:00') Timestamp('1999-02-05 00:00:00')\n",
            " Timestamp('1999-02-05 00:00:00') Timestamp('1999-02-05 00:00:00')\n",
            " Timestamp('1999-02-05 00:00:00') Timestamp('1999-02-05 00:00:00')\n",
            " Timestamp('1999-02-05 00:00:00') Timestamp('1999-02-05 00:00:00')\n",
            " Timestamp('1999-02-05 00:00:00') Timestamp('1999-02-05 00:00:00')\n",
            " Timestamp('1999-02-05 00:00:00') Timestamp('1999-02-05 00:00:00')\n",
            " Timestamp('1999-02-05 00:00:00') Timestamp('1999-02-05 00:00:00')\n",
            " Timestamp('1999-02-05 00:00:00') Timestamp('1999-02-05 00:00:00')\n",
            " Timestamp('1999-02-05 00:00:00') Timestamp('1999-02-05 00:00:00')\n",
            " Timestamp('1999-02-05 00:00:00') Timestamp('1999-02-05 00:00:00')\n",
            " Timestamp('1999-02-05 00:00:00') Timestamp('1999-02-05 00:00:00')\n",
            " Timestamp('1999-02-05 00:00:00') Timestamp('1999-02-05 00:00:00')\n",
            " Timestamp('1999-02-05 00:00:00') Timestamp('1999-02-05 00:00:00')\n",
            " Timestamp('1999-02-05 00:00:00') Timestamp('1999-02-05 00:00:00')\n",
            " Timestamp('1999-02-05 00:00:00') Timestamp('1999-02-05 00:00:00')\n",
            " Timestamp('1999-02-05 00:00:00') Timestamp('1999-02-05 00:00:00')\n",
            " Timestamp('1999-02-05 00:00:00') Timestamp('1999-02-05 00:00:00')\n",
            " Timestamp('1999-02-05 00:00:00') Timestamp('1999-02-05 00:00:00')\n",
            " Timestamp('1999-02-05 00:00:00') Timestamp('1999-02-05 00:00:00')\n",
            " Timestamp('1999-02-05 00:00:00') Timestamp('1999-02-05 00:00:00')\n",
            " Timestamp('1999-02-05 00:00:00') Timestamp('1999-02-05 00:00:00')\n",
            " Timestamp('1999-02-05 00:00:00') Timestamp('1999-02-05 00:00:00')\n",
            " Timestamp('1999-02-05 00:00:00') Timestamp('1999-02-05 00:00:00')\n",
            " Timestamp('1999-02-05 00:00:00') Timestamp('1999-02-05 00:00:00')\n",
            " Timestamp('1999-02-05 00:00:00') Timestamp('1999-02-05 00:00:00')\n",
            " Timestamp('1999-02-05 00:00:00') Timestamp('1999-02-05 00:00:00')\n",
            " Timestamp('1999-02-05 00:00:00') Timestamp('1999-02-05 00:00:00')\n",
            " Timestamp('1999-02-05 00:00:00') Timestamp('1999-02-05 00:00:00')\n",
            " Timestamp('1999-02-05 00:00:00') Timestamp('1999-02-05 00:00:00')\n",
            " Timestamp('1999-02-05 00:00:00') Timestamp('1999-02-05 00:00:00')\n",
            " Timestamp('1999-02-05 00:00:00') Timestamp('1999-02-05 00:00:00')\n",
            " Timestamp('1999-02-05 00:00:00') Timestamp('1999-02-05 00:00:00')\n",
            " Timestamp('1999-02-05 00:00:00') Timestamp('1999-02-05 00:00:00')\n",
            " Timestamp('1999-02-05 00:00:00') Timestamp('1999-02-05 00:00:00')\n",
            " Timestamp('1999-02-05 00:00:00') Timestamp('1999-02-05 00:00:00')\n",
            " Timestamp('1999-02-05 00:00:00') Timestamp('1999-02-05 00:00:00')\n",
            " Timestamp('1999-02-05 00:00:00') Timestamp('1999-02-05 00:00:00')\n",
            " Timestamp('1999-02-05 00:00:00') Timestamp('1999-02-05 00:00:00')\n",
            " Timestamp('1999-02-05 00:00:00') Timestamp('1999-02-05 00:00:00')\n",
            " Timestamp('1999-02-05 00:00:00') Timestamp('1999-02-05 00:00:00')\n",
            " Timestamp('1999-02-05 00:00:00') Timestamp('1999-02-05 00:00:00')\n",
            " Timestamp('1999-02-05 00:00:00') Timestamp('1999-02-05 00:00:00')\n",
            " Timestamp('1999-02-05 00:00:00') Timestamp('1999-02-05 00:00:00')\n",
            " Timestamp('1999-02-05 00:00:00') Timestamp('1999-02-05 00:00:00')\n",
            " Timestamp('1999-02-05 00:00:00') Timestamp('1999-02-05 00:00:00')\n",
            " Timestamp('1999-02-05 00:00:00') Timestamp('1999-02-05 00:00:00')\n",
            " Timestamp('1999-02-05 00:00:00') Timestamp('1999-02-05 00:00:00')\n",
            " Timestamp('1999-02-05 00:00:00') Timestamp('1999-02-05 00:00:00')\n",
            " Timestamp('1999-02-05 00:00:00') Timestamp('1999-02-05 00:00:00')\n",
            " Timestamp('1999-02-05 00:00:00') Timestamp('1999-02-05 00:00:00')\n",
            " Timestamp('1999-02-05 00:00:00') Timestamp('1999-02-05 00:00:00')\n",
            " Timestamp('1999-02-05 00:00:00') Timestamp('1999-02-05 00:00:00')\n",
            " Timestamp('1999-02-05 00:00:00') Timestamp('1999-02-05 00:00:00')\n",
            " Timestamp('1999-02-05 00:00:00') Timestamp('1999-02-05 00:00:00')\n",
            " Timestamp('1999-02-05 00:00:00') Timestamp('1999-02-05 00:00:00')\n",
            " Timestamp('1999-02-05 00:00:00') Timestamp('1999-02-05 00:00:00')\n",
            " Timestamp('1999-02-05 00:00:00') Timestamp('1999-02-05 00:00:00')\n",
            " Timestamp('1999-02-05 00:00:00') Timestamp('1999-02-05 00:00:00')\n",
            " Timestamp('1999-02-05 00:00:00') Timestamp('1999-02-05 00:00:00')\n",
            " Timestamp('1999-02-05 00:00:00') Timestamp('1999-02-05 00:00:00')\n",
            " Timestamp('1999-02-05 00:00:00') Timestamp('1999-02-05 00:00:00')\n",
            " Timestamp('1999-02-05 00:00:00') Timestamp('1999-02-05 00:00:00')\n",
            " Timestamp('1999-02-05 00:00:00') Timestamp('1999-02-05 00:00:00')\n",
            " Timestamp('1999-02-05 00:00:00') Timestamp('1999-02-05 00:00:00')\n",
            " Timestamp('1999-02-05 00:00:00') Timestamp('1999-02-05 00:00:00')\n",
            " Timestamp('1999-02-05 00:00:00') Timestamp('1999-02-05 00:00:00')\n",
            " Timestamp('1999-02-05 00:00:00') Timestamp('1999-02-05 00:00:00')\n",
            " Timestamp('1999-02-05 00:00:00') Timestamp('1999-02-05 00:00:00')\n",
            " Timestamp('1999-02-05 00:00:00') Timestamp('1999-02-05 00:00:00')\n",
            " Timestamp('1999-02-05 00:00:00') Timestamp('1999-02-05 00:00:00')\n",
            " Timestamp('1999-02-05 00:00:00') Timestamp('1999-02-05 00:00:00')\n",
            " Timestamp('1999-02-05 00:00:00') Timestamp('1999-02-05 00:00:00')\n",
            " Timestamp('1999-02-05 00:00:00') Timestamp('1999-02-05 00:00:00')\n",
            " Timestamp('1999-02-05 00:00:00') Timestamp('1999-02-05 00:00:00')\n",
            " Timestamp('1999-02-05 00:00:00') Timestamp('1999-02-05 00:00:00')\n",
            " Timestamp('1999-02-05 00:00:00') Timestamp('1999-02-05 00:00:00')\n",
            " Timestamp('1999-02-05 00:00:00') Timestamp('1999-02-05 00:00:00')\n",
            " Timestamp('1999-02-05 00:00:00') Timestamp('1999-02-05 00:00:00')\n",
            " Timestamp('1999-02-05 00:00:00') Timestamp('1999-02-05 00:00:00')\n",
            " Timestamp('1999-02-05 00:00:00') Timestamp('1999-02-05 00:00:00')\n",
            " Timestamp('1999-02-05 00:00:00') Timestamp('1999-02-05 00:00:00')\n",
            " Timestamp('1999-02-05 00:00:00') Timestamp('1999-02-05 00:00:00')\n",
            " Timestamp('1999-02-05 00:00:00') Timestamp('1999-02-05 00:00:00')\n",
            " Timestamp('1999-02-05 00:00:00') Timestamp('1999-02-05 00:00:00')\n",
            " Timestamp('1999-02-05 00:00:00') Timestamp('1999-02-05 00:00:00')\n",
            " Timestamp('1999-02-05 00:00:00') Timestamp('1999-02-05 00:00:00')\n",
            " Timestamp('1999-02-05 00:00:00') Timestamp('1999-02-05 00:00:00')\n",
            " Timestamp('1999-02-05 00:00:00') Timestamp('1999-02-05 00:00:00')\n",
            " Timestamp('1999-02-05 00:00:00') Timestamp('1999-02-05 00:00:00')\n",
            " Timestamp('1999-02-05 00:00:00') Timestamp('1999-02-05 00:00:00')\n",
            " Timestamp('1999-02-05 00:00:00') Timestamp('1999-02-05 00:00:00')\n",
            " Timestamp('1999-02-05 00:00:00') Timestamp('1999-02-05 00:00:00')\n",
            " Timestamp('1999-02-05 00:00:00') Timestamp('1999-02-05 00:00:00')\n",
            " Timestamp('1999-02-05 00:00:00') Timestamp('1999-02-05 00:00:00')\n",
            " Timestamp('1999-02-05 00:00:00') Timestamp('1999-02-05 00:00:00')\n",
            " Timestamp('1999-02-05 00:00:00') Timestamp('1999-02-05 00:00:00')\n",
            " Timestamp('1999-02-05 00:00:00') Timestamp('1999-02-05 00:00:00')\n",
            " Timestamp('1999-02-05 00:00:00') Timestamp('1999-02-05 00:00:00')\n",
            " Timestamp('1999-02-05 00:00:00') Timestamp('1999-02-05 00:00:00')\n",
            " Timestamp('1999-02-05 00:00:00') Timestamp('1999-02-05 00:00:00')\n",
            " Timestamp('1999-02-05 00:00:00') Timestamp('1999-02-05 00:00:00')\n",
            " Timestamp('1999-02-05 00:00:00') Timestamp('1999-02-05 00:00:00')\n",
            " Timestamp('1999-02-05 00:00:00') Timestamp('1999-02-05 00:00:00')\n",
            " Timestamp('1999-02-05 00:00:00') Timestamp('1999-02-05 00:00:00')\n",
            " Timestamp('1999-02-05 00:00:00') Timestamp('1999-02-05 00:00:00')\n",
            " Timestamp('1999-02-05 00:00:00') Timestamp('1999-02-05 00:00:00')\n",
            " Timestamp('1999-02-05 00:00:00') Timestamp('1999-02-05 00:00:00')\n",
            " Timestamp('1999-02-05 00:00:00') Timestamp('1999-02-05 00:00:00')\n",
            " Timestamp('1999-02-05 00:00:00') Timestamp('1999-02-05 00:00:00')\n",
            " Timestamp('1999-02-05 00:00:00') Timestamp('1999-02-05 00:00:00')\n",
            " Timestamp('1999-02-05 00:00:00') Timestamp('1999-02-05 00:00:00')\n",
            " Timestamp('1999-02-05 00:00:00') Timestamp('1999-02-05 00:00:00')\n",
            " Timestamp('1999-02-05 00:00:00') Timestamp('1999-02-05 00:00:00')\n",
            " Timestamp('1999-02-05 00:00:00') Timestamp('1999-02-05 00:00:00')\n",
            " Timestamp('1999-02-05 00:00:00') Timestamp('1999-02-05 00:00:00')\n",
            " Timestamp('1999-02-05 00:00:00') Timestamp('1999-02-05 00:00:00')\n",
            " Timestamp('1999-02-05 00:00:00') Timestamp('1999-02-05 00:00:00')\n",
            " Timestamp('1999-02-05 00:00:00') Timestamp('1999-02-05 00:00:00')\n",
            " Timestamp('1999-02-05 00:00:00') Timestamp('1999-02-05 00:00:00')\n",
            " Timestamp('1999-02-05 00:00:00') Timestamp('1999-02-05 00:00:00')\n",
            " Timestamp('1999-02-05 00:00:00') Timestamp('1999-02-05 00:00:00')\n",
            " Timestamp('1999-02-05 00:00:00') Timestamp('1999-02-05 00:00:00')\n",
            " Timestamp('1999-02-05 00:00:00') Timestamp('1999-02-05 00:00:00')\n",
            " Timestamp('1999-02-05 00:00:00') Timestamp('1999-02-05 00:00:00')\n",
            " Timestamp('1999-02-05 00:00:00') Timestamp('1999-02-05 00:00:00')\n",
            " Timestamp('1999-02-05 00:00:00') Timestamp('1999-02-05 00:00:00')\n",
            " Timestamp('1999-02-05 00:00:00') Timestamp('1999-02-05 00:00:00')\n",
            " Timestamp('1999-02-05 00:00:00') Timestamp('1999-02-05 00:00:00')\n",
            " Timestamp('1999-02-05 00:00:00') Timestamp('1999-02-05 00:00:00')\n",
            " Timestamp('1999-02-05 00:00:00') Timestamp('1999-02-05 00:00:00')\n",
            " Timestamp('1999-02-05 00:00:00') Timestamp('1999-02-05 00:00:00')\n",
            " Timestamp('1999-02-05 00:00:00') Timestamp('1999-02-05 00:00:00')\n",
            " Timestamp('1999-02-05 00:00:00') Timestamp('1999-02-05 00:00:00')\n",
            " Timestamp('1999-02-05 00:00:00') Timestamp('1999-02-05 00:00:00')\n",
            " Timestamp('1999-02-05 00:00:00') Timestamp('1999-02-05 00:00:00')\n",
            " Timestamp('1999-02-05 00:00:00') Timestamp('1999-02-05 00:00:00')\n",
            " Timestamp('1999-02-05 00:00:00') Timestamp('1999-02-05 00:00:00')\n",
            " Timestamp('1999-02-05 00:00:00') Timestamp('1999-02-05 00:00:00')\n",
            " Timestamp('1999-02-05 00:00:00') Timestamp('1999-02-05 00:00:00')\n",
            " Timestamp('1999-02-05 00:00:00') Timestamp('1999-02-05 00:00:00')\n",
            " Timestamp('1999-02-05 00:00:00') Timestamp('1999-02-05 00:00:00')\n",
            " Timestamp('1999-02-05 00:00:00') Timestamp('1999-02-05 00:00:00')\n",
            " Timestamp('1999-02-05 00:00:00') Timestamp('1999-02-05 00:00:00')\n",
            " Timestamp('1999-02-05 00:00:00') Timestamp('1999-02-05 00:00:00')\n",
            " Timestamp('1999-02-05 00:00:00') Timestamp('1999-02-05 00:00:00')\n",
            " Timestamp('1999-02-05 00:00:00') Timestamp('1999-02-05 00:00:00')\n",
            " Timestamp('1999-02-05 00:00:00') Timestamp('1999-02-05 00:00:00')\n",
            " Timestamp('1999-02-05 00:00:00') Timestamp('1999-02-05 00:00:00')\n",
            " Timestamp('1999-02-05 00:00:00') Timestamp('1999-02-05 00:00:00')\n",
            " Timestamp('1999-02-05 00:00:00') Timestamp('1999-02-05 00:00:00')\n",
            " Timestamp('1999-02-05 00:00:00') Timestamp('1999-02-05 00:00:00')\n",
            " Timestamp('1999-02-05 00:00:00') Timestamp('1999-02-05 00:00:00')\n",
            " Timestamp('1999-02-05 00:00:00') Timestamp('1999-02-05 00:00:00')\n",
            " Timestamp('1999-02-05 00:00:00') Timestamp('1999-02-05 00:00:00')\n",
            " Timestamp('1999-02-05 00:00:00') Timestamp('1999-02-05 00:00:00')\n",
            " Timestamp('1999-02-05 00:00:00') Timestamp('1999-02-05 00:00:00')\n",
            " Timestamp('1999-02-05 00:00:00') Timestamp('1999-02-05 00:00:00')\n",
            " Timestamp('1999-02-05 00:00:00') Timestamp('1999-02-05 00:00:00')\n",
            " Timestamp('1999-02-05 00:00:00') Timestamp('1999-02-05 00:00:00')\n",
            " Timestamp('1999-02-05 00:00:00') Timestamp('1999-02-05 00:00:00')\n",
            " Timestamp('1999-02-05 00:00:00') Timestamp('1999-02-05 00:00:00')\n",
            " Timestamp('1999-02-05 00:00:00') Timestamp('1999-02-05 00:00:00')\n",
            " Timestamp('1999-02-05 00:00:00') Timestamp('1999-02-05 00:00:00')\n",
            " Timestamp('1999-02-05 00:00:00') Timestamp('1999-02-05 00:00:00')\n",
            " Timestamp('1999-02-05 00:00:00') Timestamp('1999-02-05 00:00:00')\n",
            " Timestamp('1999-02-05 00:00:00') Timestamp('1999-02-05 00:00:00')\n",
            " Timestamp('1999-02-05 00:00:00') Timestamp('1999-02-05 00:00:00')\n",
            " Timestamp('1999-02-05 00:00:00') Timestamp('1999-02-05 00:00:00')\n",
            " Timestamp('1999-02-05 00:00:00') Timestamp('1999-02-05 00:00:00')\n",
            " Timestamp('1999-02-05 00:00:00') Timestamp('1999-02-05 00:00:00')\n",
            " Timestamp('1999-02-05 00:00:00') Timestamp('1999-02-05 00:00:00')\n",
            " Timestamp('1999-02-05 00:00:00') Timestamp('1999-02-05 00:00:00')\n",
            " Timestamp('1999-02-05 00:00:00') Timestamp('1999-02-05 00:00:00')\n",
            " Timestamp('1999-02-05 00:00:00') Timestamp('1999-02-05 00:00:00')\n",
            " Timestamp('1999-02-05 00:00:00') Timestamp('1999-02-05 00:00:00')\n",
            " Timestamp('1999-02-05 00:00:00') Timestamp('1999-02-05 00:00:00')\n",
            " Timestamp('1999-02-05 00:00:00') Timestamp('1999-02-05 00:00:00')\n",
            " Timestamp('1999-02-05 00:00:00') Timestamp('1999-02-05 00:00:00')\n",
            " Timestamp('1999-02-05 00:00:00') Timestamp('1999-02-05 00:00:00')\n",
            " Timestamp('1999-02-05 00:00:00') Timestamp('1999-02-05 00:00:00')\n",
            " Timestamp('1999-02-05 00:00:00') Timestamp('1999-02-05 00:00:00')\n",
            " Timestamp('1999-02-05 00:00:00') Timestamp('1999-02-05 00:00:00')\n",
            " Timestamp('1999-02-05 00:00:00') Timestamp('1999-02-05 00:00:00')\n",
            " Timestamp('1999-02-05 00:00:00') Timestamp('1999-02-05 00:00:00')\n",
            " Timestamp('1999-02-05 00:00:00') Timestamp('1999-02-05 00:00:00')\n",
            " Timestamp('1999-02-05 00:00:00') Timestamp('1999-02-05 00:00:00')\n",
            " Timestamp('1999-02-05 00:00:00') Timestamp('1999-02-05 00:00:00')\n",
            " Timestamp('1999-02-05 00:00:00') Timestamp('1999-02-05 00:00:00')\n",
            " Timestamp('1999-02-05 00:00:00') Timestamp('1999-02-05 00:00:00')\n",
            " Timestamp('1999-02-05 00:00:00') Timestamp('1999-02-05 00:00:00')\n",
            " Timestamp('1999-02-05 00:00:00') Timestamp('1999-02-05 00:00:00')\n",
            " Timestamp('1999-02-05 00:00:00') Timestamp('1999-02-05 00:00:00')\n",
            " Timestamp('1999-02-05 00:00:00') Timestamp('1999-02-05 00:00:00')\n",
            " Timestamp('1999-02-05 00:00:00') Timestamp('1999-02-05 00:00:00')\n",
            " Timestamp('1999-02-05 00:00:00')]\n"
          ]
        }
      ]
    },
    {
      "cell_type": "code",
      "metadata": {
        "id": "vXlNeHum1wii"
      },
      "source": [
        "memo = df.memory_usage().sum()/8000000"
      ],
      "execution_count": null,
      "outputs": []
    },
    {
      "cell_type": "code",
      "metadata": {
        "id": "kacBCYKQ11d4"
      },
      "source": [
        "ticker = np.unique(df.values[:,0])"
      ],
      "execution_count": 10,
      "outputs": []
    },
    {
      "cell_type": "code",
      "metadata": {
        "colab": {
          "base_uri": "https://localhost:8080/"
        },
        "id": "fVRbw1D4146V",
        "outputId": "104bede1-fae1-4b8c-94d5-8979a415e986"
      },
      "source": [
        "print(ticker)"
      ],
      "execution_count": 11,
      "outputs": [
        {
          "output_type": "stream",
          "name": "stdout",
          "text": [
            "['DIS']\n"
          ]
        }
      ]
    },
    {
      "cell_type": "code",
      "metadata": {
        "id": "cucHVUbt2v1s"
      },
      "source": [
        "# Date and time\n",
        "beg_time = min(hms)\n",
        "end_time = max(hms)"
      ],
      "execution_count": 12,
      "outputs": []
    },
    {
      "cell_type": "code",
      "metadata": {
        "colab": {
          "base_uri": "https://localhost:8080/"
        },
        "id": "Fls52dPd2y2O",
        "outputId": "d3ebccbd-04dc-4e1e-cd1c-16cbc6043602"
      },
      "source": [
        "print(beg_time)\n",
        "print(end_time)"
      ],
      "execution_count": 13,
      "outputs": [
        {
          "output_type": "stream",
          "name": "stdout",
          "text": [
            "09:32:34\n",
            "17:01:10\n"
          ]
        }
      ]
    },
    {
      "cell_type": "code",
      "metadata": {
        "id": "KUKwQPm03E-W"
      },
      "source": [
        "nb_trades = len(prices)\n"
      ],
      "execution_count": 14,
      "outputs": []
    },
    {
      "cell_type": "code",
      "metadata": {
        "colab": {
          "base_uri": "https://localhost:8080/"
        },
        "id": "fHTDMhMH3J0k",
        "outputId": "569a1a13-771b-4978-af9a-69862ffca105"
      },
      "source": [
        "print(nb_trades)"
      ],
      "execution_count": 15,
      "outputs": [
        {
          "output_type": "stream",
          "name": "stdout",
          "text": [
            "4568\n"
          ]
        }
      ]
    },
    {
      "cell_type": "code",
      "metadata": {
        "colab": {
          "base_uri": "https://localhost:8080/"
        },
        "id": "O3TAUF4J3ySJ",
        "outputId": "2a4777a1-74b9-44ef-dbee-9cd06217d466"
      },
      "source": [
        "# Total volume\n",
        "volume_tot = np.sum(volumes)\n",
        "print(volume_tot)"
      ],
      "execution_count": 16,
      "outputs": [
        {
          "output_type": "stream",
          "name": "stdout",
          "text": [
            "4177500\n"
          ]
        }
      ]
    },
    {
      "cell_type": "code",
      "metadata": {
        "colab": {
          "base_uri": "https://localhost:8080/"
        },
        "id": "kWowrbCo4L3a",
        "outputId": "a8b00c11-00a7-4f71-bbff-a6df131bf314"
      },
      "source": [
        "# Average trade size\n",
        "ave_trade = round(np.mean(volumes))\n",
        "print(ave_trade)\n"
      ],
      "execution_count": 17,
      "outputs": [
        {
          "output_type": "stream",
          "name": "stdout",
          "text": [
            "915\n"
          ]
        }
      ]
    },
    {
      "cell_type": "code",
      "metadata": {
        "colab": {
          "base_uri": "https://localhost:8080/",
          "height": 283
        },
        "id": "SfO2XqNV6cXr",
        "outputId": "59122ba8-62b7-4566-9d4b-f009b811a3d3"
      },
      "source": [
        "##lets try to quantify retail investor participation\n",
        "np.unique(volumes)\n",
        "plt.hist(volumes)\n",
        "100*np.sum(volumes<=100)/len(volumes)"
      ],
      "execution_count": 18,
      "outputs": [
        {
          "output_type": "execute_result",
          "data": {
            "text/plain": [
              "42.819614711033275"
            ]
          },
          "metadata": {},
          "execution_count": 18
        },
        {
          "output_type": "display_data",
          "data": {
            "image/png": "[encoded data removed]",
            "text/plain": [
              "<Figure size 432x288 with 1 Axes>"
            ]
          },
          "metadata": {
            "needs_background": "light"
          }
        }
      ]
    },
    {
      "cell_type": "code",
      "metadata": {
        "colab": {
          "base_uri": "https://localhost:8080/"
        },
        "id": "rHhy_yHA7OEB",
        "outputId": "8b9d1b84-d003-4602-d708-2e0c3e1f65b3"
      },
      "source": [
        "# Prices\n",
        "f_prices = prices[0] \n",
        "e_prices = prices[-1]\n",
        "\n",
        "print(f_prices)\n",
        "print(e_prices)"
      ],
      "execution_count": 19,
      "outputs": [
        {
          "output_type": "stream",
          "name": "stdout",
          "text": [
            "34.5625\n",
            "34.6875\n"
          ]
        }
      ]
    },
    {
      "cell_type": "code",
      "metadata": {
        "id": "PkaV8lly-J_S"
      },
      "source": [
        "# Time between transactions\n",
        "\n",
        "HMS = np.empty(len(hms),dtype=object)\n",
        "for x in range(len(hms)):\n",
        "    HMS[x] = dt.datetime.combine(theday,hms[x])\n",
        "secdiff = np.empty(len(HMS)-1)    \n",
        "for t in range(1,len(HMS)):\n",
        "    secdiff[t-1] = (HMS[t]-HMS[t-1]).total_seconds() "
      ],
      "execution_count": 20,
      "outputs": []
    },
    {
      "cell_type": "code",
      "metadata": {
        "colab": {
          "base_uri": "https://localhost:8080/"
        },
        "id": "Qc08Sq13-M2C",
        "outputId": "3b33d757-7c2d-49a6-8407-cb084068dab2"
      },
      "source": [
        "print(np.mean(secdiff))"
      ],
      "execution_count": 21,
      "outputs": [
        {
          "output_type": "stream",
          "name": "stdout",
          "text": [
            "5.8935844098970875\n"
          ]
        }
      ]
    },
    {
      "cell_type": "code",
      "metadata": {
        "colab": {
          "base_uri": "https://localhost:8080/"
        },
        "id": "KFxV8uOZ_Ey2",
        "outputId": "74893253-b4d3-47e5-b9d2-5d51dc7bdb23"
      },
      "source": [
        "print(np.percentile(secdiff,25))"
      ],
      "execution_count": 22,
      "outputs": [
        {
          "output_type": "stream",
          "name": "stdout",
          "text": [
            "1.0\n"
          ]
        }
      ]
    },
    {
      "cell_type": "code",
      "metadata": {
        "colab": {
          "base_uri": "https://localhost:8080/"
        },
        "id": "Y-xKMwCt_UMq",
        "outputId": "b11056ff-92da-48e2-9e01-a4be495afb22"
      },
      "source": [
        "# Generate the summary file\n",
        "\n",
        "print('Ticker:', ticker)\n",
        "print('Trading day:',theday)\n",
        "print('Time range: From',beg_time,'to',end_time)\n",
        "print('Nb. of trades:', nb_trades)\n",
        "print('Total volume:',volume_tot)\n",
        "print('Average trade size:',ave_trade)\n",
        "print('First price:', f_prices)\n",
        "print('Last price:', e_prices)\n",
        "print('Nb. of seconds between trades:',np.round(np.mean(secdiff)))"
      ],
      "execution_count": 23,
      "outputs": [
        {
          "output_type": "stream",
          "name": "stdout",
          "text": [
            "Ticker: ['DIS']\n",
            "Trading day: 1998-08-03 00:00:00\n",
            "Time range: From 09:32:34 to 17:01:10\n",
            "Nb. of trades: 4568\n",
            "Total volume: 4177500\n",
            "Average trade size: 915\n",
            "First price: 34.5625\n",
            "Last price: 34.6875\n",
            "Nb. of seconds between trades: 6.0\n"
          ]
        }
      ]
    },
    {
      "cell_type": "code",
      "metadata": {
        "colab": {
          "base_uri": "https://localhost:8080/",
          "height": 299
        },
        "id": "XpwWik3EKhOV",
        "outputId": "7f6ab040-274a-4b4a-d952-d50f714add33"
      },
      "source": [
        "# Distribution of time differences between trades\n",
        "plt.hist(secdiff,30)\n",
        "plt.title('Distribution of time between trades (in  seconds)')"
      ],
      "execution_count": 24,
      "outputs": [
        {
          "output_type": "execute_result",
          "data": {
            "text/plain": [
              "Text(0.5, 1.0, 'Distribution of time between trades (in  seconds)')"
            ]
          },
          "metadata": {},
          "execution_count": 24
        },
        {
          "output_type": "display_data",
          "data": {
            "image/png": "[encoded data removed]",
            "text/plain": [
              "<Figure size 432x288 with 1 Axes>"
            ]
          },
          "metadata": {
            "needs_background": "light"
          }
        }
      ]
    },
    {
      "cell_type": "code",
      "metadata": {
        "colab": {
          "base_uri": "https://localhost:8080/"
        },
        "id": "KvTtfelQKwrM",
        "outputId": "5bb2c4bb-cd5e-4963-917f-380762970f70"
      },
      "source": [
        "# Statistics by trading hour\n",
        "\n",
        "secdiff2 = np.append(secdiff,np.nan)\n",
        "trades_bh = np.empty(7)\n",
        "volume_bh = np.empty(7)\n",
        "secdiff_bh = np.empty(7)\n",
        "\n",
        "for i in range(9,16):\n",
        "    print(i)\n",
        "    k = (HMS > dt.datetime(1998,8,3,i,0,0)) & \\\n",
        "    (HMS < dt.datetime(1998,8,3,i+1,0,0))\n",
        "    trades_bh[i-9] = len(prices[k])\n",
        "    volume_bh[i-9] = np.sum(volumes[k])\n",
        "    secdiff_bh[i-9] = np.nanmean(secdiff2[k])\n",
        "    "
      ],
      "execution_count": 25,
      "outputs": [
        {
          "output_type": "stream",
          "name": "stdout",
          "text": [
            "9\n",
            "10\n",
            "11\n",
            "12\n",
            "13\n",
            "14\n",
            "15\n"
          ]
        }
      ]
    },
    {
      "cell_type": "code",
      "metadata": {
        "colab": {
          "base_uri": "https://localhost:8080/"
        },
        "id": "IGHQqnBlLz0Y",
        "outputId": "a0b389ef-7458-4b92-a7c0-5dc301a4fbd3"
      },
      "source": [
        "print(trades_bh)\n",
        "print(volume_bh)\n",
        "print(secdiff_bh)"
      ],
      "execution_count": 26,
      "outputs": [
        {
          "output_type": "stream",
          "name": "stdout",
          "text": [
            "[792. 775. 724. 545. 490. 544. 684.]\n",
            "[694400. 869600. 672800. 325800. 411000. 444100. 643200.]\n",
            "[2.08838384 4.64129032 4.97651934 6.60366972 7.34081633 6.625\n",
            " 5.25146199]\n"
          ]
        }
      ]
    },
    {
      "cell_type": "code",
      "metadata": {
        "colab": {
          "base_uri": "https://localhost:8080/",
          "height": 297
        },
        "id": "LLyuOWJNMOUh",
        "outputId": "75fb8a88-1b50-485d-9fbf-f22ce48a5b66"
      },
      "source": [
        "x = np.arange(7)  \n",
        "trng = ('9-10 am','10-11 am','11-12 am','12am-1pm', \\\n",
        "        '1-2 pm','2-3 pm','3-4 pm') \n",
        "from IPython.display import Javascript\n",
        "display(Javascript(\"google.colab.output.resizeIframeToContent()\"))\n",
        "\n",
        "plt.subplot(2,2,1)\n",
        "plt.bar(x,trades_bh)\n",
        "plt.xticks(x, trng,fontsize=8)\n",
        "plt.title('Total number of trades')\n",
        "plt.subplot(2,2,2)\n",
        "plt.bar(x,volume_bh)\n",
        "plt.xticks(x, trng,fontsize=8)\n",
        "plt.title('Total volume')\n",
        "plt.subplot(2,2,3)\n",
        "plt.bar(x,secdiff_bh)\n",
        "plt.xticks(x, trng,fontsize=8)\n",
        "plt.title('Average time between trades')\n"
      ],
      "execution_count": 27,
      "outputs": [
        {
          "output_type": "display_data",
          "data": {
            "application/javascript": [
              "google.colab.output.resizeIframeToContent()"
            ],
            "text/plain": [
              "<IPython.core.display.Javascript object>"
            ]
          },
          "metadata": {}
        },
        {
          "output_type": "execute_result",
          "data": {
            "text/plain": [
              "Text(0.5, 1.0, 'Average time between trades')"
            ]
          },
          "metadata": {},
          "execution_count": 27
        },
        {
          "output_type": "display_data",
          "data": {
            "image/png": "[encoded data removed]",
            "text/plain": [
              "<Figure size 432x288 with 3 Axes>"
            ]
          },
          "metadata": {
            "needs_background": "light"
          }
        }
      ]
    },
    {
      "cell_type": "code",
      "metadata": {
        "colab": {
          "base_uri": "https://localhost:8080/",
          "height": 291
        },
        "id": "_9tOaBazPW_P",
        "outputId": "d80f3ebd-e00a-4bd3-b604-b63555099814"
      },
      "source": [
        "#######################################################\n",
        "# Statistics by stock exchange\n",
        "\n",
        "# \"N\" : NYSE\n",
        "# \"T\" : NASDAQ\n",
        "# \"P\" : ARCA\n",
        "# \"M\" : Chicago\n",
        "# \"B\" : NASDAQ OMX Boston\n",
        "# \"X\" : NASDAQ OMX Philadelphia\n",
        "\n",
        "u_sexch = np.unique(sexch)\n",
        "l = len(u_sexch)\n",
        "trades_bh = np.empty(l)\n",
        "volume_bh = np.empty(l)\n",
        "secdiff_bh = np.empty(l)\n",
        "\n",
        "for i in range(l):\n",
        "    k = sexch == u_sexch[i]\n",
        "    trades_bh[i] = len(prices[k])\n",
        "    volume_bh[i] = np.sum(volumes[k])\n",
        "    SubHMS = HMS[k]\n",
        "    secdiff = np.empty(len(SubHMS)-1)    \n",
        "    for t in range(1,len(SubHMS)):\n",
        "        secdiff[t-1] = (SubHMS[t]-SubHMS[t-1]).total_seconds() \n",
        "    secdiff_bh[i] = np.median(secdiff)\n",
        "    \n",
        "x = np.arange(l)  \n",
        "trng = ('NASDAQ OMX Boston', 'Chicago', 'NYSE','ARCA', \\\n",
        "        'NASDAQ', 'NASDAQ OMX Phil.') \n",
        "plt.subplot(2,2,1)\n",
        "plt.bar(x,trades_bh)\n",
        "plt.xticks(x, trng,fontsize=5)\n",
        "plt.xticks(fontsize=5)\n",
        "plt.title('Total number of trades',fontsize=10)\n",
        "plt.subplot(2,2,2)\n",
        "plt.bar(x,volume_bh)\n",
        "plt.xticks(x, trng,fontsize=5)\n",
        "plt.title('Total volume',fontsize=10)\n",
        "plt.subplot(2,2,3)\n",
        "plt.bar(x,secdiff_bh/60)\n",
        "plt.xticks(x, trng,fontsize=5)\n",
        "plt.title('Average time (Min.) between two consecutive transactions',fontsize=10)"
      ],
      "execution_count": 28,
      "outputs": [
        {
          "output_type": "execute_result",
          "data": {
            "text/plain": [
              "Text(0.5, 1.0, 'Average time (Min.) between two consecutive transactions')"
            ]
          },
          "metadata": {},
          "execution_count": 28
        },
        {
          "output_type": "display_data",
          "data": {
            "image/png": "[encoded data removed]",
            "text/plain": [
              "<Figure size 432x288 with 3 Axes>"
            ]
          },
          "metadata": {
            "needs_background": "light"
          }
        }
      ]
    }
  ]
}