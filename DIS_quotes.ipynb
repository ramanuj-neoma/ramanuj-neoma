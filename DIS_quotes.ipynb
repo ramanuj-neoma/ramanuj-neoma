{
  "nbformat": 4,
  "nbformat_minor": 0,
  "metadata": {
    "colab": {
      "name": "DIS_quotes.ipynb",
      "provenance": [],
      "authorship_tag": "ABX9TyMyX1lRZCH3SCN+Y4zDGRaC",
      "include_colab_link": true
    },
    "kernelspec": {
      "name": "python3",
      "display_name": "Python 3"
    },
    "language_info": {
      "name": "python"
    }
  },
  "cells": [
    {
      "cell_type": "markdown",
      "metadata": {
        "id": "view-in-github",
        "colab_type": "text"
      },
      "source": [
        "<a href=\"https://colab.research.google.com/github/ramanuj-neoma/ramanuj-neoma/blob/main/DIS_quotes.ipynb\" target=\"_parent\"><img src=\"https://colab.research.google.com/assets/colab-badge.svg\" alt=\"Open In Colab\"/></a>"
      ]
    },
    {
      "cell_type": "code",
      "metadata": {
        "id": "oi1vOQU7T0SX"
      },
      "source": [
        "import numpy as np\n",
        "import pandas as pa\n",
        "import datetime as dt\n",
        "import matplotlib.pyplot as plt"
      ],
      "execution_count": 1,
      "outputs": []
    },
    {
      "cell_type": "code",
      "metadata": {
        "id": "EepXQxmtUzGJ"
      },
      "source": [
        "df = pa.read_excel(\"/content/sample_data/DIS_quotes_full.xlsx\",sheet_name=\"DIS_quotes_full\", \n",
        "                   header=0, index_col=None,\n",
        "                   dtype={'Name': str, 'Value' : float})"
      ],
      "execution_count": 3,
      "outputs": []
    },
    {
      "cell_type": "code",
      "metadata": {
        "id": "rJjd61jOVdx2"
      },
      "source": [
        "# dataset properties\n",
        "\n",
        "#df.index #size\n",
        "#df.dtypes # nature of data by column\n",
        "#df.columns # column headers\n",
        "\n",
        "##################################\n",
        "# Select the day\n",
        "\n",
        "theday = pa.Timestamp(year=1998, month=8, day=3, hour=00)\n",
        "k1 = df.values[:,1] == theday\n",
        "# Optional: Filters\n",
        "k2 = df.values[:,3] > 0  # bid\n",
        "k3 = df.values[:,4] > 0  # bid size\n",
        "k4 = df.values[:,5] > 0  # ask\n",
        "k5 = df.values[:,6] > 0  # ask size\n",
        "\n",
        "K = k1 & k2 & k3 & k4 & k5 \n",
        "\n",
        "tr_day = df.values[K,1]\n",
        "hms = df.values[K,2]\n",
        "bid = df.values[K,3] \n",
        "ask = df.values[K,4]\n",
        "bidsize = df.values[K,5]\n",
        "asksize = df.values[K,6] \n",
        "trademode = df.values[K,7] \n",
        "sexc =  df.values[K,8]\n",
        "mm = df.values[K,9]"
      ],
      "execution_count": 4,
      "outputs": []
    },
    {
      "cell_type": "code",
      "metadata": {
        "colab": {
          "base_uri": "https://localhost:8080/"
        },
        "id": "5seN31BvXEEz",
        "outputId": "cd4beda6-9265-41d7-971d-2636da1e7660"
      },
      "source": [
        "#################################\n",
        "ticker = np.unique(df.values[:,0])\n",
        "\n",
        "#################################\n",
        "# Date and time\n",
        "beg_time = min(hms)\n",
        "end_time = max(hms)\n",
        "\n",
        "#################################\n",
        "# Best bid and ask of the day\n",
        "\n",
        "bestbid = np.max(bid)\n",
        "bestask = np.min(ask)\n",
        "\n",
        "###############################\n",
        "# average bid/ask spread\n",
        "avebalvl = np.mean(ask-bid)\n",
        "avebaper = np.mean((ask-bid)/(0.5*(ask+bid)))\n",
        "\n",
        "###############################\n",
        "# Summary file\n",
        "\n",
        "print('Ticker:', ticker)\n",
        "print('Trading day:',theday)\n",
        "print('Time range: From',beg_time,'to',end_time)\n",
        "print('Best bid of the day:',np.round(bestbid,2))\n",
        "print('Best ask of the day:',np.round(bestask,2))\n",
        "print('Average bid ask spread ($):',np.round(avebalvl,2))\n",
        "print('Average bid ask spread (%):',np.round(100*avebaper,4))"
      ],
      "execution_count": 5,
      "outputs": [
        {
          "output_type": "stream",
          "name": "stdout",
          "text": [
            "Ticker: ['DIS']\n",
            "Trading day: 1998-08-03 00:00:00\n",
            "Time range: From 09:32:41 to 16:13:42\n",
            "Best bid of the day: 34.94\n",
            "Best ask of the day: 34.56\n",
            "Average bid ask spread ($): 0.21\n",
            "Average bid ask spread (%): 0.5986\n"
          ]
        }
      ]
    },
    {
      "cell_type": "code",
      "metadata": {
        "id": "lDp98AvCXcR_"
      },
      "source": [
        "# Generate a sumamry file through a function:\n",
        "def MyDailyStats2(db,yyyy,mm,dd):\n",
        "    theday = pa.Timestamp(year=yyyy, month=mm, day=dd, hour=00)\n",
        "    k1 = db.values[:,1] == theday\n",
        "    k2 = db.values[:,3] > 0  # bid\n",
        "    k3 = db.values[:,4] > 0  # bid size\n",
        "    k4 = db.values[:,5] > 0  # ask\n",
        "    k5 = db.values[:,6] > 0  # ask size\n",
        "    K = k1 & k2 & k3 & k4 & k5 \n",
        "    hms = db.values[K,2]\n",
        "    bid = db.values[K,3] \n",
        "    ask = db.values[K,4]\n",
        "    mm = db.values[K,9]\n",
        "    beg_time = min(hms)\n",
        "    end_time = max(hms)\n",
        "    bestbid = np.max(bid)\n",
        "    bestask = np.min(ask)\n",
        "    avebalvl = np.mean(ask-bid)\n",
        "    avebaper = np.mean((ask-bid)/(0.5*(ask+bid)))\n",
        "    print('Trading day:',theday)\n",
        "    print('Time range: From',beg_time,'to',end_time)\n",
        "    print('Best bid of the day:',np.round(bestbid,2))\n",
        "    print('Best ask of the day:',np.round(bestask,2))\n",
        "    print('Average bid ask spread ($):',np.round(avebalvl,2))\n",
        "    print('Average bid ask spread (%):',np.round(100*avebaper,4))\n",
        "    print('')"
      ],
      "execution_count": 6,
      "outputs": []
    },
    {
      "cell_type": "code",
      "metadata": {
        "colab": {
          "base_uri": "https://localhost:8080/",
          "height": 658
        },
        "id": "ZeVhKJLmXjAd",
        "outputId": "a74a3221-68d5-47c4-e050-5c51f0d7e41a"
      },
      "source": [
        "##############################\n",
        "# Spread by hour\n",
        "\n",
        "HMS = np.empty(len(hms),dtype=object)\n",
        "for x in range(len(hms)):\n",
        "    HMS[x] = dt.datetime.combine(theday,hms[x])\n",
        "    \n",
        "ba_bh = np.zeros(7)*np.nan\n",
        "\n",
        "for i in range(9,16):\n",
        "    print(i)\n",
        "    k = (HMS > dt.datetime(1998,8,3,i,0,0)) & \\\n",
        "    (HMS < dt.datetime(1998,8,3,i+1,0,0))\n",
        "    ba_bh[i-9] = 100*np.mean(ask[k]-bid[k])\n",
        "    \n",
        "x = np.arange(7)  \n",
        "trng = ('9-10 am', '10-11 am', '11-12 am', '12am-1pm', \\\n",
        "        '1-2 pm','2-3 pm','3-4 pm') \n",
        "\n",
        "plt.subplot(1,2,1)\n",
        "plt.bar(x,ba_bh)\n",
        "plt.title('Average spread by hour')\n",
        "plt.xlabel('Trading hours')\n",
        "plt.ylabel('Spread in cents')\n",
        "plt.xticks(x, trng,fontsize=8)"
      ],
      "execution_count": 7,
      "outputs": [
        {
          "output_type": "stream",
          "name": "stdout",
          "text": [
            "9\n",
            "10\n",
            "11\n",
            "12\n",
            "13\n",
            "14\n",
            "15\n"
          ]
        },
        {
          "output_type": "execute_result",
          "data": {
            "text/plain": [
              "([<matplotlib.axis.XTick at 0x7f8bdc535690>,\n",
              "  <matplotlib.axis.XTick at 0x7f8bdc535110>,\n",
              "  <matplotlib.axis.XTick at 0x7f8bdc535350>,\n",
              "  <matplotlib.axis.XTick at 0x7f8be29b8b50>,\n",
              "  <matplotlib.axis.XTick at 0x7f8bbaebb490>,\n",
              "  <matplotlib.axis.XTick at 0x7f8bbaebb9d0>,\n",
              "  <matplotlib.axis.XTick at 0x7f8bbaebb250>],\n",
              " [Text(0, 0, '9-10 am'),\n",
              "  Text(0, 0, '10-11 am'),\n",
              "  Text(0, 0, '11-12 am'),\n",
              "  Text(0, 0, '12am-1pm'),\n",
              "  Text(0, 0, '1-2 pm'),\n",
              "  Text(0, 0, '2-3 pm'),\n",
              "  Text(0, 0, '3-4 pm')])"
            ]
          },
          "metadata": {},
          "execution_count": 7
        },
        {
          "output_type": "display_data",
          "data": {
            "image/png": "[encoded data removed]",
            "text/plain": [
              "<Figure size 432x288 with 1 Axes>"
            ]
          },
          "metadata": {
            "needs_background": "light"
          }
        }
      ]
    }
  ]
}