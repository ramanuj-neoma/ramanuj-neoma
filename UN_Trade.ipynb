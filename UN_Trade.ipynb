{
  "nbformat": 4,
  "nbformat_minor": 0,
  "metadata": {
    "colab": {
      "name": "UN-Trade.ipynb",
      "provenance": [],
      "collapsed_sections": [],
      "authorship_tag": "ABX9TyMFMfvAydC5Go98/dJPoRnV",
      "include_colab_link": true
    },
    "kernelspec": {
      "name": "python3",
      "display_name": "Python 3"
    },
    "language_info": {
      "name": "python"
    }
  },
  "cells": [
    {
      "cell_type": "markdown",
      "metadata": {
        "id": "view-in-github",
        "colab_type": "text"
      },
      "source": [
        "<a href=\"https://colab.research.google.com/github/ramanuj-neoma/ramanuj-neoma/blob/main/UN_Trade.ipynb\" target=\"_parent\"><img src=\"https://colab.research.google.com/assets/colab-badge.svg\" alt=\"Open In Colab\"/></a>"
      ]
    },
    {
      "cell_type": "code",
      "metadata": {
        "id": "eFPVa8HLwnlD"
      },
      "source": [
        "import numpy as np\n",
        "import pandas as pa\n",
        "import datetime as dt\n",
        "import matplotlib.pyplot as plt"
      ],
      "execution_count": 33,
      "outputs": []
    },
    {
      "cell_type": "code",
      "metadata": {
        "id": "NsnBXD91w0TZ"
      },
      "source": [
        "df = pa.read_excel(\"/content/sample_data/UN_trades_full.xlsx\",sheet_name=\"UN_trades_full\", \n",
        "                   header=0, index_col=None,\n",
        "                   dtype={'Name': str, 'Value' : float})"
      ],
      "execution_count": 40,
      "outputs": []
    },
    {
      "cell_type": "code",
      "metadata": {
        "id": "NlsRoI2uzPQS"
      },
      "source": [
        "theday = pa.Timestamp(year=1999, month=2, day=5, hour=00)\n",
        "k = df.values[:,1] == theday"
      ],
      "execution_count": 38,
      "outputs": []
    },
    {
      "cell_type": "code",
      "metadata": {
        "colab": {
          "base_uri": "https://localhost:8080/"
        },
        "id": "WEQ1yqO708ai",
        "outputId": "32433f07-a0d5-4205-b490-c682749e3fcd"
      },
      "source": [
        "print(df.values)"
      ],
      "execution_count": 41,
      "outputs": [
        {
          "output_type": "stream",
          "name": "stdout",
          "text": [
            "[['UN' Timestamp('1998-08-03 00:00:00') datetime.time(9, 33, 42) ... 0\n",
            "  nan 'N']\n",
            " ['UN' Timestamp('1998-08-03 00:00:00') datetime.time(9, 33, 45) ... 0\n",
            "  nan 'T']\n",
            " ['UN' Timestamp('1998-08-03 00:00:00') datetime.time(9, 33, 45) ... 0\n",
            "  nan 'P']\n",
            " ...\n",
            " ['UN' Timestamp('1999-04-30 00:00:00') datetime.time(16, 2, 45) ... 0\n",
            "  nan 'N']\n",
            " ['UN' Timestamp('1999-04-30 00:00:00') datetime.time(16, 2, 50) ... 0\n",
            "  nan 'N']\n",
            " ['UN' Timestamp('1999-04-30 00:00:00') datetime.time(16, 32, 43) ... 0\n",
            "  'Z' 'T']]\n"
          ]
        }
      ]
    },
    {
      "cell_type": "code",
      "metadata": {
        "id": "tA3N2_ZMzZNn"
      },
      "source": [
        "tr_day = df.values[k,1]\n",
        "hms = df.values[k,2]\n",
        "prices = df.values[k,3] \n",
        "volumes = df.values[k,4]\n",
        "sexch = df.values[k,8]"
      ],
      "execution_count": 42,
      "outputs": []
    },
    {
      "cell_type": "code",
      "metadata": {
        "colab": {
          "base_uri": "https://localhost:8080/"
        },
        "id": "fjyxrj1n1OHi",
        "outputId": "4dd8b7a3-e3e5-4236-91fe-e2c10d2fbadd"
      },
      "source": [
        "print(tr_day)"
      ],
      "execution_count": 43,
      "outputs": [
        {
          "output_type": "stream",
          "name": "stdout",
          "text": [
            "[Timestamp('1999-02-05 00:00:00') Timestamp('1999-02-05 00:00:00')\n",
            " Timestamp('1999-02-05 00:00:00') Timestamp('1999-02-05 00:00:00')\n",
            " Timestamp('1999-02-05 00:00:00') Timestamp('1999-02-05 00:00:00')\n",
            " Timestamp('1999-02-05 00:00:00') Timestamp('1999-02-05 00:00:00')\n",
            " Timestamp('1999-02-05 00:00:00') Timestamp('1999-02-05 00:00:00')\n",
            " Timestamp('1999-02-05 00:00:00') Timestamp('1999-02-05 00:00:00')\n",
            " Timestamp('1999-02-05 00:00:00') Timestamp('1999-02-05 00:00:00')\n",
            " Timestamp('1999-02-05 00:00:00') Timestamp('1999-02-05 00:00:00')\n",
            " Timestamp('1999-02-05 00:00:00') Timestamp('1999-02-05 00:00:00')\n",
            " Timestamp('1999-02-05 00:00:00') Timestamp('1999-02-05 00:00:00')\n",
            " Timestamp('1999-02-05 00:00:00') Timestamp('1999-02-05 00:00:00')\n",
            " Timestamp('1999-02-05 00:00:00') Timestamp('1999-02-05 00:00:00')\n",
            " Timestamp('1999-02-05 00:00:00') Timestamp('1999-02-05 00:00:00')\n",
            " Timestamp('1999-02-05 00:00:00') Timestamp('1999-02-05 00:00:00')\n",
            " Timestamp('1999-02-05 00:00:00') Timestamp('1999-02-05 00:00:00')\n",
            " Timestamp('1999-02-05 00:00:00') Timestamp('1999-02-05 00:00:00')\n",
            " Timestamp('1999-02-05 00:00:00') Timestamp('1999-02-05 00:00:00')\n",
            " Timestamp('1999-02-05 00:00:00') Timestamp('1999-02-05 00:00:00')\n",
            " Timestamp('1999-02-05 00:00:00') Timestamp('1999-02-05 00:00:00')\n",
            " Timestamp('1999-02-05 00:00:00') Timestamp('1999-02-05 00:00:00')\n",
            " Timestamp('1999-02-05 00:00:00') Timestamp('1999-02-05 00:00:00')\n",
            " Timestamp('1999-02-05 00:00:00') Timestamp('1999-02-05 00:00:00')\n",
            " Timestamp('1999-02-05 00:00:00') Timestamp('1999-02-05 00:00:00')\n",
            " Timestamp('1999-02-05 00:00:00') Timestamp('1999-02-05 00:00:00')\n",
            " Timestamp('1999-02-05 00:00:00') Timestamp('1999-02-05 00:00:00')\n",
            " Timestamp('1999-02-05 00:00:00') Timestamp('1999-02-05 00:00:00')\n",
            " Timestamp('1999-02-05 00:00:00') Timestamp('1999-02-05 00:00:00')\n",
            " Timestamp('1999-02-05 00:00:00') Timestamp('1999-02-05 00:00:00')\n",
            " Timestamp('1999-02-05 00:00:00') Timestamp('1999-02-05 00:00:00')\n",
            " Timestamp('1999-02-05 00:00:00') Timestamp('1999-02-05 00:00:00')\n",
            " Timestamp('1999-02-05 00:00:00') Timestamp('1999-02-05 00:00:00')\n",
            " Timestamp('1999-02-05 00:00:00') Timestamp('1999-02-05 00:00:00')\n",
            " Timestamp('1999-02-05 00:00:00') Timestamp('1999-02-05 00:00:00')\n",
            " Timestamp('1999-02-05 00:00:00') Timestamp('1999-02-05 00:00:00')\n",
            " Timestamp('1999-02-05 00:00:00') Timestamp('1999-02-05 00:00:00')\n",
            " Timestamp('1999-02-05 00:00:00') Timestamp('1999-02-05 00:00:00')\n",
            " Timestamp('1999-02-05 00:00:00') Timestamp('1999-02-05 00:00:00')\n",
            " Timestamp('1999-02-05 00:00:00') Timestamp('1999-02-05 00:00:00')\n",
            " Timestamp('1999-02-05 00:00:00') Timestamp('1999-02-05 00:00:00')\n",
            " Timestamp('1999-02-05 00:00:00') Timestamp('1999-02-05 00:00:00')\n",
            " Timestamp('1999-02-05 00:00:00') Timestamp('1999-02-05 00:00:00')\n",
            " Timestamp('1999-02-05 00:00:00') Timestamp('1999-02-05 00:00:00')\n",
            " Timestamp('1999-02-05 00:00:00') Timestamp('1999-02-05 00:00:00')\n",
            " Timestamp('1999-02-05 00:00:00') Timestamp('1999-02-05 00:00:00')\n",
            " Timestamp('1999-02-05 00:00:00') Timestamp('1999-02-05 00:00:00')\n",
            " Timestamp('1999-02-05 00:00:00') Timestamp('1999-02-05 00:00:00')\n",
            " Timestamp('1999-02-05 00:00:00') Timestamp('1999-02-05 00:00:00')\n",
            " Timestamp('1999-02-05 00:00:00') Timestamp('1999-02-05 00:00:00')\n",
            " Timestamp('1999-02-05 00:00:00') Timestamp('1999-02-05 00:00:00')\n",
            " Timestamp('1999-02-05 00:00:00') Timestamp('1999-02-05 00:00:00')\n",
            " Timestamp('1999-02-05 00:00:00') Timestamp('1999-02-05 00:00:00')\n",
            " Timestamp('1999-02-05 00:00:00') Timestamp('1999-02-05 00:00:00')\n",
            " Timestamp('1999-02-05 00:00:00') Timestamp('1999-02-05 00:00:00')\n",
            " Timestamp('1999-02-05 00:00:00') Timestamp('1999-02-05 00:00:00')\n",
            " Timestamp('1999-02-05 00:00:00') Timestamp('1999-02-05 00:00:00')\n",
            " Timestamp('1999-02-05 00:00:00') Timestamp('1999-02-05 00:00:00')\n",
            " Timestamp('1999-02-05 00:00:00') Timestamp('1999-02-05 00:00:00')\n",
            " Timestamp('1999-02-05 00:00:00') Timestamp('1999-02-05 00:00:00')\n",
            " Timestamp('1999-02-05 00:00:00') Timestamp('1999-02-05 00:00:00')\n",
            " Timestamp('1999-02-05 00:00:00') Timestamp('1999-02-05 00:00:00')\n",
            " Timestamp('1999-02-05 00:00:00') Timestamp('1999-02-05 00:00:00')\n",
            " Timestamp('1999-02-05 00:00:00') Timestamp('1999-02-05 00:00:00')\n",
            " Timestamp('1999-02-05 00:00:00') Timestamp('1999-02-05 00:00:00')\n",
            " Timestamp('1999-02-05 00:00:00') Timestamp('1999-02-05 00:00:00')\n",
            " Timestamp('1999-02-05 00:00:00') Timestamp('1999-02-05 00:00:00')\n",
            " Timestamp('1999-02-05 00:00:00') Timestamp('1999-02-05 00:00:00')\n",
            " Timestamp('1999-02-05 00:00:00') Timestamp('1999-02-05 00:00:00')\n",
            " Timestamp('1999-02-05 00:00:00') Timestamp('1999-02-05 00:00:00')\n",
            " Timestamp('1999-02-05 00:00:00') Timestamp('1999-02-05 00:00:00')\n",
            " Timestamp('1999-02-05 00:00:00') Timestamp('1999-02-05 00:00:00')\n",
            " Timestamp('1999-02-05 00:00:00') Timestamp('1999-02-05 00:00:00')\n",
            " Timestamp('1999-02-05 00:00:00') Timestamp('1999-02-05 00:00:00')\n",
            " Timestamp('1999-02-05 00:00:00') Timestamp('1999-02-05 00:00:00')\n",
            " Timestamp('1999-02-05 00:00:00') Timestamp('1999-02-05 00:00:00')\n",
            " Timestamp('1999-02-05 00:00:00') Timestamp('1999-02-05 00:00:00')\n",
            " Timestamp('1999-02-05 00:00:00') Timestamp('1999-02-05 00:00:00')\n",
            " Timestamp('1999-02-05 00:00:00') Timestamp('1999-02-05 00:00:00')\n",
            " Timestamp('1999-02-05 00:00:00') Timestamp('1999-02-05 00:00:00')\n",
            " Timestamp('1999-02-05 00:00:00') Timestamp('1999-02-05 00:00:00')\n",
            " Timestamp('1999-02-05 00:00:00') Timestamp('1999-02-05 00:00:00')\n",
            " Timestamp('1999-02-05 00:00:00') Timestamp('1999-02-05 00:00:00')\n",
            " Timestamp('1999-02-05 00:00:00') Timestamp('1999-02-05 00:00:00')\n",
            " Timestamp('1999-02-05 00:00:00') Timestamp('1999-02-05 00:00:00')\n",
            " Timestamp('1999-02-05 00:00:00') Timestamp('1999-02-05 00:00:00')\n",
            " Timestamp('1999-02-05 00:00:00') Timestamp('1999-02-05 00:00:00')\n",
            " Timestamp('1999-02-05 00:00:00') Timestamp('1999-02-05 00:00:00')\n",
            " Timestamp('1999-02-05 00:00:00') Timestamp('1999-02-05 00:00:00')\n",
            " Timestamp('1999-02-05 00:00:00') Timestamp('1999-02-05 00:00:00')\n",
            " Timestamp('1999-02-05 00:00:00') Timestamp('1999-02-05 00:00:00')\n",
            " Timestamp('1999-02-05 00:00:00') Timestamp('1999-02-05 00:00:00')\n",
            " Timestamp('1999-02-05 00:00:00') Timestamp('1999-02-05 00:00:00')\n",
            " Timestamp('1999-02-05 00:00:00') Timestamp('1999-02-05 00:00:00')\n",
            " Timestamp('1999-02-05 00:00:00') Timestamp('1999-02-05 00:00:00')\n",
            " Timestamp('1999-02-05 00:00:00') Timestamp('1999-02-05 00:00:00')\n",
            " Timestamp('1999-02-05 00:00:00') Timestamp('1999-02-05 00:00:00')\n",
            " Timestamp('1999-02-05 00:00:00') Timestamp('1999-02-05 00:00:00')\n",
            " Timestamp('1999-02-05 00:00:00') Timestamp('1999-02-05 00:00:00')\n",
            " Timestamp('1999-02-05 00:00:00') Timestamp('1999-02-05 00:00:00')\n",
            " Timestamp('1999-02-05 00:00:00') Timestamp('1999-02-05 00:00:00')\n",
            " Timestamp('1999-02-05 00:00:00') Timestamp('1999-02-05 00:00:00')\n",
            " Timestamp('1999-02-05 00:00:00') Timestamp('1999-02-05 00:00:00')\n",
            " Timestamp('1999-02-05 00:00:00') Timestamp('1999-02-05 00:00:00')\n",
            " Timestamp('1999-02-05 00:00:00') Timestamp('1999-02-05 00:00:00')\n",
            " Timestamp('1999-02-05 00:00:00') Timestamp('1999-02-05 00:00:00')\n",
            " Timestamp('1999-02-05 00:00:00') Timestamp('1999-02-05 00:00:00')\n",
            " Timestamp('1999-02-05 00:00:00') Timestamp('1999-02-05 00:00:00')\n",
            " Timestamp('1999-02-05 00:00:00') Timestamp('1999-02-05 00:00:00')\n",
            " Timestamp('1999-02-05 00:00:00') Timestamp('1999-02-05 00:00:00')\n",
            " Timestamp('1999-02-05 00:00:00') Timestamp('1999-02-05 00:00:00')\n",
            " Timestamp('1999-02-05 00:00:00') Timestamp('1999-02-05 00:00:00')\n",
            " Timestamp('1999-02-05 00:00:00') Timestamp('1999-02-05 00:00:00')\n",
            " Timestamp('1999-02-05 00:00:00') Timestamp('1999-02-05 00:00:00')\n",
            " Timestamp('1999-02-05 00:00:00') Timestamp('1999-02-05 00:00:00')\n",
            " Timestamp('1999-02-05 00:00:00') Timestamp('1999-02-05 00:00:00')\n",
            " Timestamp('1999-02-05 00:00:00') Timestamp('1999-02-05 00:00:00')\n",
            " Timestamp('1999-02-05 00:00:00') Timestamp('1999-02-05 00:00:00')\n",
            " Timestamp('1999-02-05 00:00:00') Timestamp('1999-02-05 00:00:00')\n",
            " Timestamp('1999-02-05 00:00:00') Timestamp('1999-02-05 00:00:00')\n",
            " Timestamp('1999-02-05 00:00:00') Timestamp('1999-02-05 00:00:00')\n",
            " Timestamp('1999-02-05 00:00:00') Timestamp('1999-02-05 00:00:00')\n",
            " Timestamp('1999-02-05 00:00:00') Timestamp('1999-02-05 00:00:00')\n",
            " Timestamp('1999-02-05 00:00:00') Timestamp('1999-02-05 00:00:00')\n",
            " Timestamp('1999-02-05 00:00:00') Timestamp('1999-02-05 00:00:00')\n",
            " Timestamp('1999-02-05 00:00:00') Timestamp('1999-02-05 00:00:00')\n",
            " Timestamp('1999-02-05 00:00:00') Timestamp('1999-02-05 00:00:00')\n",
            " Timestamp('1999-02-05 00:00:00') Timestamp('1999-02-05 00:00:00')\n",
            " Timestamp('1999-02-05 00:00:00') Timestamp('1999-02-05 00:00:00')\n",
            " Timestamp('1999-02-05 00:00:00') Timestamp('1999-02-05 00:00:00')\n",
            " Timestamp('1999-02-05 00:00:00') Timestamp('1999-02-05 00:00:00')\n",
            " Timestamp('1999-02-05 00:00:00') Timestamp('1999-02-05 00:00:00')\n",
            " Timestamp('1999-02-05 00:00:00') Timestamp('1999-02-05 00:00:00')\n",
            " Timestamp('1999-02-05 00:00:00') Timestamp('1999-02-05 00:00:00')\n",
            " Timestamp('1999-02-05 00:00:00') Timestamp('1999-02-05 00:00:00')\n",
            " Timestamp('1999-02-05 00:00:00') Timestamp('1999-02-05 00:00:00')\n",
            " Timestamp('1999-02-05 00:00:00') Timestamp('1999-02-05 00:00:00')\n",
            " Timestamp('1999-02-05 00:00:00') Timestamp('1999-02-05 00:00:00')\n",
            " Timestamp('1999-02-05 00:00:00') Timestamp('1999-02-05 00:00:00')\n",
            " Timestamp('1999-02-05 00:00:00') Timestamp('1999-02-05 00:00:00')\n",
            " Timestamp('1999-02-05 00:00:00') Timestamp('1999-02-05 00:00:00')\n",
            " Timestamp('1999-02-05 00:00:00') Timestamp('1999-02-05 00:00:00')\n",
            " Timestamp('1999-02-05 00:00:00') Timestamp('1999-02-05 00:00:00')\n",
            " Timestamp('1999-02-05 00:00:00') Timestamp('1999-02-05 00:00:00')\n",
            " Timestamp('1999-02-05 00:00:00') Timestamp('1999-02-05 00:00:00')\n",
            " Timestamp('1999-02-05 00:00:00') Timestamp('1999-02-05 00:00:00')\n",
            " Timestamp('1999-02-05 00:00:00') Timestamp('1999-02-05 00:00:00')\n",
            " Timestamp('1999-02-05 00:00:00') Timestamp('1999-02-05 00:00:00')\n",
            " Timestamp('1999-02-05 00:00:00') Timestamp('1999-02-05 00:00:00')\n",
            " Timestamp('1999-02-05 00:00:00') Timestamp('1999-02-05 00:00:00')\n",
            " Timestamp('1999-02-05 00:00:00') Timestamp('1999-02-05 00:00:00')\n",
            " Timestamp('1999-02-05 00:00:00') Timestamp('1999-02-05 00:00:00')\n",
            " Timestamp('1999-02-05 00:00:00') Timestamp('1999-02-05 00:00:00')\n",
            " Timestamp('1999-02-05 00:00:00') Timestamp('1999-02-05 00:00:00')\n",
            " Timestamp('1999-02-05 00:00:00') Timestamp('1999-02-05 00:00:00')\n",
            " Timestamp('1999-02-05 00:00:00') Timestamp('1999-02-05 00:00:00')\n",
            " Timestamp('1999-02-05 00:00:00') Timestamp('1999-02-05 00:00:00')\n",
            " Timestamp('1999-02-05 00:00:00') Timestamp('1999-02-05 00:00:00')\n",
            " Timestamp('1999-02-05 00:00:00') Timestamp('1999-02-05 00:00:00')\n",
            " Timestamp('1999-02-05 00:00:00') Timestamp('1999-02-05 00:00:00')\n",
            " Timestamp('1999-02-05 00:00:00') Timestamp('1999-02-05 00:00:00')\n",
            " Timestamp('1999-02-05 00:00:00') Timestamp('1999-02-05 00:00:00')\n",
            " Timestamp('1999-02-05 00:00:00') Timestamp('1999-02-05 00:00:00')\n",
            " Timestamp('1999-02-05 00:00:00') Timestamp('1999-02-05 00:00:00')\n",
            " Timestamp('1999-02-05 00:00:00') Timestamp('1999-02-05 00:00:00')\n",
            " Timestamp('1999-02-05 00:00:00') Timestamp('1999-02-05 00:00:00')\n",
            " Timestamp('1999-02-05 00:00:00') Timestamp('1999-02-05 00:00:00')\n",
            " Timestamp('1999-02-05 00:00:00') Timestamp('1999-02-05 00:00:00')\n",
            " Timestamp('1999-02-05 00:00:00') Timestamp('1999-02-05 00:00:00')\n",
            " Timestamp('1999-02-05 00:00:00') Timestamp('1999-02-05 00:00:00')\n",
            " Timestamp('1999-02-05 00:00:00') Timestamp('1999-02-05 00:00:00')\n",
            " Timestamp('1999-02-05 00:00:00') Timestamp('1999-02-05 00:00:00')\n",
            " Timestamp('1999-02-05 00:00:00') Timestamp('1999-02-05 00:00:00')\n",
            " Timestamp('1999-02-05 00:00:00') Timestamp('1999-02-05 00:00:00')\n",
            " Timestamp('1999-02-05 00:00:00') Timestamp('1999-02-05 00:00:00')\n",
            " Timestamp('1999-02-05 00:00:00') Timestamp('1999-02-05 00:00:00')\n",
            " Timestamp('1999-02-05 00:00:00') Timestamp('1999-02-05 00:00:00')\n",
            " Timestamp('1999-02-05 00:00:00') Timestamp('1999-02-05 00:00:00')\n",
            " Timestamp('1999-02-05 00:00:00') Timestamp('1999-02-05 00:00:00')\n",
            " Timestamp('1999-02-05 00:00:00') Timestamp('1999-02-05 00:00:00')\n",
            " Timestamp('1999-02-05 00:00:00') Timestamp('1999-02-05 00:00:00')\n",
            " Timestamp('1999-02-05 00:00:00') Timestamp('1999-02-05 00:00:00')\n",
            " Timestamp('1999-02-05 00:00:00') Timestamp('1999-02-05 00:00:00')\n",
            " Timestamp('1999-02-05 00:00:00') Timestamp('1999-02-05 00:00:00')\n",
            " Timestamp('1999-02-05 00:00:00') Timestamp('1999-02-05 00:00:00')\n",
            " Timestamp('1999-02-05 00:00:00') Timestamp('1999-02-05 00:00:00')\n",
            " Timestamp('1999-02-05 00:00:00') Timestamp('1999-02-05 00:00:00')\n",
            " Timestamp('1999-02-05 00:00:00') Timestamp('1999-02-05 00:00:00')\n",
            " Timestamp('1999-02-05 00:00:00') Timestamp('1999-02-05 00:00:00')\n",
            " Timestamp('1999-02-05 00:00:00') Timestamp('1999-02-05 00:00:00')\n",
            " Timestamp('1999-02-05 00:00:00') Timestamp('1999-02-05 00:00:00')\n",
            " Timestamp('1999-02-05 00:00:00') Timestamp('1999-02-05 00:00:00')\n",
            " Timestamp('1999-02-05 00:00:00') Timestamp('1999-02-05 00:00:00')\n",
            " Timestamp('1999-02-05 00:00:00') Timestamp('1999-02-05 00:00:00')\n",
            " Timestamp('1999-02-05 00:00:00') Timestamp('1999-02-05 00:00:00')\n",
            " Timestamp('1999-02-05 00:00:00') Timestamp('1999-02-05 00:00:00')\n",
            " Timestamp('1999-02-05 00:00:00') Timestamp('1999-02-05 00:00:00')\n",
            " Timestamp('1999-02-05 00:00:00') Timestamp('1999-02-05 00:00:00')\n",
            " Timestamp('1999-02-05 00:00:00') Timestamp('1999-02-05 00:00:00')\n",
            " Timestamp('1999-02-05 00:00:00') Timestamp('1999-02-05 00:00:00')\n",
            " Timestamp('1999-02-05 00:00:00') Timestamp('1999-02-05 00:00:00')\n",
            " Timestamp('1999-02-05 00:00:00') Timestamp('1999-02-05 00:00:00')\n",
            " Timestamp('1999-02-05 00:00:00') Timestamp('1999-02-05 00:00:00')\n",
            " Timestamp('1999-02-05 00:00:00') Timestamp('1999-02-05 00:00:00')\n",
            " Timestamp('1999-02-05 00:00:00') Timestamp('1999-02-05 00:00:00')\n",
            " Timestamp('1999-02-05 00:00:00') Timestamp('1999-02-05 00:00:00')\n",
            " Timestamp('1999-02-05 00:00:00') Timestamp('1999-02-05 00:00:00')\n",
            " Timestamp('1999-02-05 00:00:00') Timestamp('1999-02-05 00:00:00')\n",
            " Timestamp('1999-02-05 00:00:00') Timestamp('1999-02-05 00:00:00')\n",
            " Timestamp('1999-02-05 00:00:00') Timestamp('1999-02-05 00:00:00')\n",
            " Timestamp('1999-02-05 00:00:00') Timestamp('1999-02-05 00:00:00')\n",
            " Timestamp('1999-02-05 00:00:00') Timestamp('1999-02-05 00:00:00')\n",
            " Timestamp('1999-02-05 00:00:00') Timestamp('1999-02-05 00:00:00')\n",
            " Timestamp('1999-02-05 00:00:00') Timestamp('1999-02-05 00:00:00')\n",
            " Timestamp('1999-02-05 00:00:00') Timestamp('1999-02-05 00:00:00')\n",
            " Timestamp('1999-02-05 00:00:00') Timestamp('1999-02-05 00:00:00')\n",
            " Timestamp('1999-02-05 00:00:00') Timestamp('1999-02-05 00:00:00')\n",
            " Timestamp('1999-02-05 00:00:00') Timestamp('1999-02-05 00:00:00')\n",
            " Timestamp('1999-02-05 00:00:00') Timestamp('1999-02-05 00:00:00')\n",
            " Timestamp('1999-02-05 00:00:00') Timestamp('1999-02-05 00:00:00')\n",
            " Timestamp('1999-02-05 00:00:00') Timestamp('1999-02-05 00:00:00')\n",
            " Timestamp('1999-02-05 00:00:00') Timestamp('1999-02-05 00:00:00')\n",
            " Timestamp('1999-02-05 00:00:00') Timestamp('1999-02-05 00:00:00')\n",
            " Timestamp('1999-02-05 00:00:00') Timestamp('1999-02-05 00:00:00')\n",
            " Timestamp('1999-02-05 00:00:00') Timestamp('1999-02-05 00:00:00')\n",
            " Timestamp('1999-02-05 00:00:00') Timestamp('1999-02-05 00:00:00')\n",
            " Timestamp('1999-02-05 00:00:00') Timestamp('1999-02-05 00:00:00')\n",
            " Timestamp('1999-02-05 00:00:00') Timestamp('1999-02-05 00:00:00')\n",
            " Timestamp('1999-02-05 00:00:00') Timestamp('1999-02-05 00:00:00')\n",
            " Timestamp('1999-02-05 00:00:00') Timestamp('1999-02-05 00:00:00')\n",
            " Timestamp('1999-02-05 00:00:00') Timestamp('1999-02-05 00:00:00')\n",
            " Timestamp('1999-02-05 00:00:00') Timestamp('1999-02-05 00:00:00')\n",
            " Timestamp('1999-02-05 00:00:00') Timestamp('1999-02-05 00:00:00')\n",
            " Timestamp('1999-02-05 00:00:00') Timestamp('1999-02-05 00:00:00')\n",
            " Timestamp('1999-02-05 00:00:00') Timestamp('1999-02-05 00:00:00')\n",
            " Timestamp('1999-02-05 00:00:00') Timestamp('1999-02-05 00:00:00')\n",
            " Timestamp('1999-02-05 00:00:00') Timestamp('1999-02-05 00:00:00')\n",
            " Timestamp('1999-02-05 00:00:00') Timestamp('1999-02-05 00:00:00')\n",
            " Timestamp('1999-02-05 00:00:00') Timestamp('1999-02-05 00:00:00')\n",
            " Timestamp('1999-02-05 00:00:00') Timestamp('1999-02-05 00:00:00')\n",
            " Timestamp('1999-02-05 00:00:00') Timestamp('1999-02-05 00:00:00')\n",
            " Timestamp('1999-02-05 00:00:00') Timestamp('1999-02-05 00:00:00')\n",
            " Timestamp('1999-02-05 00:00:00') Timestamp('1999-02-05 00:00:00')\n",
            " Timestamp('1999-02-05 00:00:00') Timestamp('1999-02-05 00:00:00')\n",
            " Timestamp('1999-02-05 00:00:00') Timestamp('1999-02-05 00:00:00')\n",
            " Timestamp('1999-02-05 00:00:00') Timestamp('1999-02-05 00:00:00')\n",
            " Timestamp('1999-02-05 00:00:00') Timestamp('1999-02-05 00:00:00')\n",
            " Timestamp('1999-02-05 00:00:00') Timestamp('1999-02-05 00:00:00')\n",
            " Timestamp('1999-02-05 00:00:00') Timestamp('1999-02-05 00:00:00')\n",
            " Timestamp('1999-02-05 00:00:00') Timestamp('1999-02-05 00:00:00')\n",
            " Timestamp('1999-02-05 00:00:00') Timestamp('1999-02-05 00:00:00')\n",
            " Timestamp('1999-02-05 00:00:00') Timestamp('1999-02-05 00:00:00')\n",
            " Timestamp('1999-02-05 00:00:00') Timestamp('1999-02-05 00:00:00')\n",
            " Timestamp('1999-02-05 00:00:00') Timestamp('1999-02-05 00:00:00')\n",
            " Timestamp('1999-02-05 00:00:00') Timestamp('1999-02-05 00:00:00')\n",
            " Timestamp('1999-02-05 00:00:00') Timestamp('1999-02-05 00:00:00')\n",
            " Timestamp('1999-02-05 00:00:00') Timestamp('1999-02-05 00:00:00')\n",
            " Timestamp('1999-02-05 00:00:00') Timestamp('1999-02-05 00:00:00')\n",
            " Timestamp('1999-02-05 00:00:00') Timestamp('1999-02-05 00:00:00')\n",
            " Timestamp('1999-02-05 00:00:00') Timestamp('1999-02-05 00:00:00')\n",
            " Timestamp('1999-02-05 00:00:00') Timestamp('1999-02-05 00:00:00')\n",
            " Timestamp('1999-02-05 00:00:00') Timestamp('1999-02-05 00:00:00')\n",
            " Timestamp('1999-02-05 00:00:00') Timestamp('1999-02-05 00:00:00')\n",
            " Timestamp('1999-02-05 00:00:00') Timestamp('1999-02-05 00:00:00')\n",
            " Timestamp('1999-02-05 00:00:00') Timestamp('1999-02-05 00:00:00')\n",
            " Timestamp('1999-02-05 00:00:00') Timestamp('1999-02-05 00:00:00')\n",
            " Timestamp('1999-02-05 00:00:00') Timestamp('1999-02-05 00:00:00')\n",
            " Timestamp('1999-02-05 00:00:00') Timestamp('1999-02-05 00:00:00')\n",
            " Timestamp('1999-02-05 00:00:00') Timestamp('1999-02-05 00:00:00')\n",
            " Timestamp('1999-02-05 00:00:00') Timestamp('1999-02-05 00:00:00')\n",
            " Timestamp('1999-02-05 00:00:00') Timestamp('1999-02-05 00:00:00')\n",
            " Timestamp('1999-02-05 00:00:00') Timestamp('1999-02-05 00:00:00')\n",
            " Timestamp('1999-02-05 00:00:00') Timestamp('1999-02-05 00:00:00')\n",
            " Timestamp('1999-02-05 00:00:00') Timestamp('1999-02-05 00:00:00')\n",
            " Timestamp('1999-02-05 00:00:00') Timestamp('1999-02-05 00:00:00')\n",
            " Timestamp('1999-02-05 00:00:00') Timestamp('1999-02-05 00:00:00')\n",
            " Timestamp('1999-02-05 00:00:00') Timestamp('1999-02-05 00:00:00')\n",
            " Timestamp('1999-02-05 00:00:00') Timestamp('1999-02-05 00:00:00')\n",
            " Timestamp('1999-02-05 00:00:00') Timestamp('1999-02-05 00:00:00')\n",
            " Timestamp('1999-02-05 00:00:00') Timestamp('1999-02-05 00:00:00')\n",
            " Timestamp('1999-02-05 00:00:00') Timestamp('1999-02-05 00:00:00')\n",
            " Timestamp('1999-02-05 00:00:00') Timestamp('1999-02-05 00:00:00')\n",
            " Timestamp('1999-02-05 00:00:00') Timestamp('1999-02-05 00:00:00')\n",
            " Timestamp('1999-02-05 00:00:00') Timestamp('1999-02-05 00:00:00')\n",
            " Timestamp('1999-02-05 00:00:00') Timestamp('1999-02-05 00:00:00')\n",
            " Timestamp('1999-02-05 00:00:00') Timestamp('1999-02-05 00:00:00')\n",
            " Timestamp('1999-02-05 00:00:00')]\n"
          ]
        }
      ]
    },
    {
      "cell_type": "code",
      "metadata": {
        "id": "vXlNeHum1wii"
      },
      "source": [
        "memo = df.memory_usage().sum()/8000000"
      ],
      "execution_count": 44,
      "outputs": []
    },
    {
      "cell_type": "code",
      "metadata": {
        "id": "kacBCYKQ11d4"
      },
      "source": [
        "ticker = np.unique(df.values[:,0])"
      ],
      "execution_count": 45,
      "outputs": []
    },
    {
      "cell_type": "code",
      "metadata": {
        "colab": {
          "base_uri": "https://localhost:8080/"
        },
        "id": "fVRbw1D4146V",
        "outputId": "d6f75439-1bd2-44d6-f202-2b6fad4d0411"
      },
      "source": [
        "print(ticker)"
      ],
      "execution_count": 46,
      "outputs": [
        {
          "output_type": "stream",
          "name": "stdout",
          "text": [
            "['UN']\n"
          ]
        }
      ]
    },
    {
      "cell_type": "code",
      "metadata": {
        "id": "cucHVUbt2v1s"
      },
      "source": [
        "# Date and time\n",
        "beg_time = min(hms)\n",
        "end_time = max(hms)"
      ],
      "execution_count": 47,
      "outputs": []
    },
    {
      "cell_type": "code",
      "metadata": {
        "colab": {
          "base_uri": "https://localhost:8080/"
        },
        "id": "Fls52dPd2y2O",
        "outputId": "868b8765-858c-4a2e-fb54-79ca104c4406"
      },
      "source": [
        "print(beg_time)\n",
        "print(end_time)"
      ],
      "execution_count": 48,
      "outputs": [
        {
          "output_type": "stream",
          "name": "stdout",
          "text": [
            "09:37:16\n",
            "16:01:08\n"
          ]
        }
      ]
    },
    {
      "cell_type": "code",
      "metadata": {
        "id": "KUKwQPm03E-W"
      },
      "source": [
        "nb_trades = len(prices)\n"
      ],
      "execution_count": 49,
      "outputs": []
    },
    {
      "cell_type": "code",
      "metadata": {
        "colab": {
          "base_uri": "https://localhost:8080/"
        },
        "id": "fHTDMhMH3J0k",
        "outputId": "7b7673a2-3652-45d1-c78b-68df26960858"
      },
      "source": [
        "print(nb_trades)"
      ],
      "execution_count": 50,
      "outputs": [
        {
          "output_type": "stream",
          "name": "stdout",
          "text": [
            "569\n"
          ]
        }
      ]
    },
    {
      "cell_type": "code",
      "metadata": {
        "colab": {
          "base_uri": "https://localhost:8080/"
        },
        "id": "O3TAUF4J3ySJ",
        "outputId": "44e9cba8-2717-4a62-8aef-962e9df14ab8"
      },
      "source": [
        "# Total volume\n",
        "volume_tot = np.sum(volumes)\n",
        "print(volume_tot)"
      ],
      "execution_count": 51,
      "outputs": [
        {
          "output_type": "stream",
          "name": "stdout",
          "text": [
            "865400\n"
          ]
        }
      ]
    },
    {
      "cell_type": "code",
      "metadata": {
        "colab": {
          "base_uri": "https://localhost:8080/"
        },
        "id": "kWowrbCo4L3a",
        "outputId": "91ee2e52-6f6d-4b11-9510-47157977b572"
      },
      "source": [
        "# Average trade size\n",
        "ave_trade = round(np.mean(volumes))\n",
        "print(ave_trade)\n"
      ],
      "execution_count": 52,
      "outputs": [
        {
          "output_type": "stream",
          "name": "stdout",
          "text": [
            "1521\n"
          ]
        }
      ]
    },
    {
      "cell_type": "code",
      "metadata": {
        "colab": {
          "base_uri": "https://localhost:8080/",
          "height": 283
        },
        "id": "SfO2XqNV6cXr",
        "outputId": "f750ff9c-9c73-46c3-e7ac-f3bbcebea9d8"
      },
      "source": [
        "##lets try to quantify retail investor participation\n",
        "np.unique(volumes)\n",
        "plt.hist(volumes)\n",
        "100*np.sum(volumes<=100)/len(volumes)"
      ],
      "execution_count": 53,
      "outputs": [
        {
          "output_type": "execute_result",
          "data": {
            "text/plain": [
              "21.26537785588752"
            ]
          },
          "metadata": {},
          "execution_count": 53
        },
        {
          "output_type": "display_data",
          "data": {
            "image/png": "[encoded data removed]",
            "text/plain": [
              "<Figure size 432x288 with 1 Axes>"
            ]
          },
          "metadata": {
            "needs_background": "light"
          }
        }
      ]
    },
    {
      "cell_type": "code",
      "metadata": {
        "colab": {
          "base_uri": "https://localhost:8080/"
        },
        "id": "rHhy_yHA7OEB",
        "outputId": "9917ba71-3d60-4403-9187-a99be0f56db6"
      },
      "source": [
        "# Prices\n",
        "f_prices = prices[0] \n",
        "e_prices = prices[-1]\n",
        "\n",
        "print(f_prices)\n",
        "print(e_prices)"
      ],
      "execution_count": 54,
      "outputs": [
        {
          "output_type": "stream",
          "name": "stdout",
          "text": [
            "72.4375\n",
            "71.875\n"
          ]
        }
      ]
    },
    {
      "cell_type": "code",
      "metadata": {
        "id": "PkaV8lly-J_S"
      },
      "source": [
        "# Time between transactions\n",
        "\n",
        "HMS = np.empty(len(hms),dtype=object)\n",
        "for x in range(len(hms)):\n",
        "    HMS[x] = dt.datetime.combine(theday,hms[x])\n",
        "secdiff = np.empty(len(HMS)-1)    \n",
        "for t in range(1,len(HMS)):\n",
        "    secdiff[t-1] = (HMS[t]-HMS[t-1]).total_seconds() "
      ],
      "execution_count": 55,
      "outputs": []
    },
    {
      "cell_type": "code",
      "metadata": {
        "colab": {
          "base_uri": "https://localhost:8080/"
        },
        "id": "Qc08Sq13-M2C",
        "outputId": "cd30ea88-fea0-4a1f-e45a-cb7d4a756e71"
      },
      "source": [
        "print(np.mean(secdiff))"
      ],
      "execution_count": 56,
      "outputs": [
        {
          "output_type": "stream",
          "name": "stdout",
          "text": [
            "40.54929577464789\n"
          ]
        }
      ]
    },
    {
      "cell_type": "code",
      "metadata": {
        "colab": {
          "base_uri": "https://localhost:8080/"
        },
        "id": "KFxV8uOZ_Ey2",
        "outputId": "e80c4ea3-c3d6-46eb-a131-4d7e5ae9a55f"
      },
      "source": [
        "print(np.percentile(secdiff,25))"
      ],
      "execution_count": 57,
      "outputs": [
        {
          "output_type": "stream",
          "name": "stdout",
          "text": [
            "5.0\n"
          ]
        }
      ]
    },
    {
      "cell_type": "code",
      "metadata": {
        "colab": {
          "base_uri": "https://localhost:8080/"
        },
        "id": "Y-xKMwCt_UMq",
        "outputId": "1206a015-70b1-40f9-ef1a-d58c090b4b06"
      },
      "source": [
        "# Generate the summary file\n",
        "\n",
        "print('Ticker:', ticker)\n",
        "print('Trading day:',theday)\n",
        "print('Time range: From',beg_time,'to',end_time)\n",
        "print('Nb. of trades:', nb_trades)\n",
        "print('Total volume:',volume_tot)\n",
        "print('Average trade size:',ave_trade)\n",
        "print('First price:', f_prices)\n",
        "print('Last price:', e_prices)\n",
        "print('Nb. of seconds between trades:',np.round(np.mean(secdiff)))"
      ],
      "execution_count": 58,
      "outputs": [
        {
          "output_type": "stream",
          "name": "stdout",
          "text": [
            "Ticker: ['UN']\n",
            "Trading day: 1999-02-05 00:00:00\n",
            "Time range: From 09:37:16 to 16:01:08\n",
            "Nb. of trades: 569\n",
            "Total volume: 865400\n",
            "Average trade size: 1521\n",
            "First price: 72.4375\n",
            "Last price: 71.875\n",
            "Nb. of seconds between trades: 41.0\n"
          ]
        }
      ]
    },
    {
      "cell_type": "code",
      "metadata": {
        "colab": {
          "base_uri": "https://localhost:8080/",
          "height": 299
        },
        "id": "XpwWik3EKhOV",
        "outputId": "ce9599ff-9340-477e-f865-851483c9128a"
      },
      "source": [
        "# Distribution of time differences between trades\n",
        "plt.hist(secdiff,30)\n",
        "plt.title('Distribution of time between trades (in  seconds)')"
      ],
      "execution_count": 59,
      "outputs": [
        {
          "output_type": "execute_result",
          "data": {
            "text/plain": [
              "Text(0.5, 1.0, 'Distribution of time between trades (in  seconds)')"
            ]
          },
          "metadata": {},
          "execution_count": 59
        },
        {
          "output_type": "display_data",
          "data": {
            "image/png": "[encoded data removed]",
            "text/plain": [
              "<Figure size 432x288 with 1 Axes>"
            ]
          },
          "metadata": {
            "needs_background": "light"
          }
        }
      ]
    },
    {
      "cell_type": "code",
      "metadata": {
        "colab": {
          "base_uri": "https://localhost:8080/"
        },
        "id": "KvTtfelQKwrM",
        "outputId": "016c4ca0-9ddc-4a2e-a776-0d161979c90f"
      },
      "source": [
        "# Statistics by trading hour\n",
        "\n",
        "secdiff2 = np.append(secdiff,np.nan)\n",
        "trades_bh = np.empty(7)\n",
        "volume_bh = np.empty(7)\n",
        "secdiff_bh = np.empty(7)\n",
        "\n",
        "for i in range(9,16):\n",
        "    print(i)\n",
        "    k = (HMS > dt.datetime(1999,2,5,i,0,0)) & \\\n",
        "    (HMS < dt.datetime(1999,2,5,i+1,0,0))\n",
        "    trades_bh[i-9] = len(prices[k])\n",
        "    volume_bh[i-9] = np.sum(volumes[k])\n",
        "    secdiff_bh[i-9] = np.nanmean(secdiff2[k])\n",
        "    "
      ],
      "execution_count": 61,
      "outputs": [
        {
          "output_type": "stream",
          "name": "stdout",
          "text": [
            "9\n",
            "10\n",
            "11\n",
            "12\n",
            "13\n",
            "14\n",
            "15\n"
          ]
        }
      ]
    },
    {
      "cell_type": "code",
      "metadata": {
        "colab": {
          "base_uri": "https://localhost:8080/"
        },
        "id": "IGHQqnBlLz0Y",
        "outputId": "2e97ec2c-999a-4e27-83b7-48cd45b73fb5"
      },
      "source": [
        "print(trades_bh)\n",
        "print(volume_bh)\n",
        "print(secdiff_bh)"
      ],
      "execution_count": 62,
      "outputs": [
        {
          "output_type": "stream",
          "name": "stdout",
          "text": [
            "[ 69.  77.  85.  53.  79.  93. 110.]\n",
            "[ 95500. 157700. 231000.  44900.  56700. 123000. 128700.]\n",
            "[19.88405797 46.87012987 42.76470588 69.16981132 45.53164557 38.07526882\n",
            " 32.22727273]\n"
          ]
        }
      ]
    },
    {
      "cell_type": "code",
      "metadata": {
        "colab": {
          "base_uri": "https://localhost:8080/",
          "height": 297
        },
        "id": "LLyuOWJNMOUh",
        "outputId": "71ea4b98-d77f-48fc-a2ec-e55c12f27bb4"
      },
      "source": [
        "x = np.arange(7)  \n",
        "trng = ('9-10 am','10-11 am','11-12 am','12am-1pm', \\\n",
        "        '1-2 pm','2-3 pm','3-4 pm') \n",
        "from IPython.display import Javascript\n",
        "display(Javascript(\"google.colab.output.resizeIframeToContent()\"))\n",
        "\n",
        "plt.subplot(2,2,1)\n",
        "plt.bar(x,trades_bh)\n",
        "plt.xticks(x, trng,fontsize=8)\n",
        "plt.title('Total number of trades')\n",
        "plt.subplot(2,2,2)\n",
        "plt.bar(x,volume_bh)\n",
        "plt.xticks(x, trng,fontsize=8)\n",
        "plt.title('Total volume')\n",
        "plt.subplot(2,2,3)\n",
        "plt.bar(x,secdiff_bh)\n",
        "plt.xticks(x, trng,fontsize=8)\n",
        "plt.title('Average time between trades')\n"
      ],
      "execution_count": 69,
      "outputs": [
        {
          "output_type": "display_data",
          "data": {
            "application/javascript": [
              "google.colab.output.resizeIframeToContent()"
            ],
            "text/plain": [
              "<IPython.core.display.Javascript object>"
            ]
          },
          "metadata": {}
        },
        {
          "output_type": "execute_result",
          "data": {
            "text/plain": [
              "Text(0.5, 1.0, 'Average time between trades')"
            ]
          },
          "metadata": {},
          "execution_count": 69
        },
        {
          "output_type": "display_data",
          "data": {
            "image/png": "[encoded data removed]",
            "text/plain": [
              "<Figure size 432x288 with 3 Axes>"
            ]
          },
          "metadata": {
            "needs_background": "light"
          }
        }
      ]
    },
    {
      "cell_type": "code",
      "metadata": {
        "colab": {
          "base_uri": "https://localhost:8080/",
          "height": 291
        },
        "id": "_9tOaBazPW_P",
        "outputId": "5481e050-97d8-4f39-e2fc-28034c1d10bc"
      },
      "source": [
        "#######################################################\n",
        "# Statistics by stock exchange\n",
        "\n",
        "# \"N\" : NYSE\n",
        "# \"T\" : NASDAQ\n",
        "# \"P\" : ARCA\n",
        "# \"M\" : Chicago\n",
        "# \"B\" : NASDAQ OMX Boston\n",
        "# \"X\" : NASDAQ OMX Philadelphia\n",
        "\n",
        "u_sexch = np.unique(sexch)\n",
        "l = len(u_sexch)\n",
        "trades_bh = np.empty(l)\n",
        "volume_bh = np.empty(l)\n",
        "secdiff_bh = np.empty(l)\n",
        "\n",
        "for i in range(l):\n",
        "    k = sexch == u_sexch[i]\n",
        "    trades_bh[i] = len(prices[k])\n",
        "    volume_bh[i] = np.sum(volumes[k])\n",
        "    SubHMS = HMS[k]\n",
        "    secdiff = np.empty(len(SubHMS)-1)    \n",
        "    for t in range(1,len(SubHMS)):\n",
        "        secdiff[t-1] = (SubHMS[t]-SubHMS[t-1]).total_seconds() \n",
        "    secdiff_bh[i] = np.median(secdiff)\n",
        "    \n",
        "x = np.arange(l)  \n",
        "trng = ('NASDAQ OMX Boston', 'Chicago', 'NYSE','ARCA', \\\n",
        "        'NASDAQ', 'NASDAQ OMX Phil.') \n",
        "plt.subplot(2,2,1)\n",
        "plt.bar(x,trades_bh)\n",
        "plt.xticks(x, trng,fontsize=5)\n",
        "plt.xticks(fontsize=5)\n",
        "plt.title('Total number of trades',fontsize=10)\n",
        "plt.subplot(2,2,2)\n",
        "plt.bar(x,volume_bh)\n",
        "plt.xticks(x, trng,fontsize=5)\n",
        "plt.title('Total volume',fontsize=10)\n",
        "plt.subplot(2,2,3)\n",
        "plt.bar(x,secdiff_bh/60)\n",
        "plt.xticks(x, trng,fontsize=5)\n",
        "plt.title('Average time (Min.) between two consecutive transactions',fontsize=10)"
      ],
      "execution_count": 70,
      "outputs": [
        {
          "output_type": "execute_result",
          "data": {
            "text/plain": [
              "Text(0.5, 1.0, 'Average time (Min.) between two consecutive transactions')"
            ]
          },
          "metadata": {},
          "execution_count": 70
        },
        {
          "output_type": "display_data",
          "data": {
            "image/png": "[encoded data removed]",
            "text/plain": [
              "<Figure size 432x288 with 3 Axes>"
            ]
          },
          "metadata": {
            "needs_background": "light"
          }
        }
      ]
    }
  ]
}